{
 "cells": [
  {
   "cell_type": "markdown",
   "metadata": {},
   "source": [
    "## 10. Spatial regression"
   ]
  },
  {
   "cell_type": "markdown",
   "metadata": {},
   "source": [
    "### Why _spatial_ regression and why does it matter?"
   ]
  },
  {
   "cell_type": "markdown",
   "metadata": {},
   "source": [
    "What is it that makes _spatial_ regression special and sets it apart from _classical_ regression? In classical ordinary least squares (OLS) regression, we assume that the [Gauss-Markov Theorem](https://en.wikipedia.org/wiki/Gauss%E2%80%93Markov_theorem) holds and that the regression model errors are uncorrelated, have equal variances across all samples, and have an expected value of zero (i.e., are unbiased).\n",
    "\n",
    "However, most socio-economic processes take place in space and influence the spatial distribution of the model errors. Now, this spatial influence can be interpreted in two ways. \n",
    "\n",
    "* If we _know_ for sure that the process **generating** the data is explicitly spatial. For example, we know that urban mobility patterns in cities are driven by the spatial patterns of social and economic activity. Or, firms and households choose locations, among other things, based on spatial accessibility to public amenities. In this view, geography is a feature that can be explicitly incorporated into regression models.\n",
    "\n",
    "* A common approach in classical regression is analysing the distribution of the model errors. Among various error diagnostic tools, spatial regression offers yet another powerful method to assess if there are _systematic_ errors, such as spatial clusters of model errors, in our model. This occurs in cases when some spatial relationship or structure **_should be_** included as a feature in our model, but we do not know how to include it in the model. Or, it can happen due to the complex interdependencies among features that carry embodied spatial information and interact with each other causing spatially patterned effect which is difficult to capture. \n",
    "\n",
    "In both cases, additional information about the different kinds of spatial relationships among samples or nearby locations can improve our model. This kind of spatial feature engineering was the topic of our previous class."
   ]
  },
  {
   "cell_type": "markdown",
   "metadata": {},
   "source": [
    "In this class, we will learn about spatial regression models and their properties, and will use them to analyse Airbnb listing prices in San Diego. This Jupyter Notebook is a modified and extended version of [this](https://geographicdata.science/book/notebooks/11_regression.html#bringing-space-into-the-regression-framework) great chapter of the [Geographic Data Science](https://geographicdata.science/book/intro.html) book."
   ]
  },
  {
   "cell_type": "code",
   "execution_count": 1,
   "metadata": {},
   "outputs": [
    {
     "name": "stderr",
     "output_type": "stream",
     "text": [
      "C:\\Users\\gevor\\anaconda3\\lib\\site-packages\\geopandas\\_compat.py:106: UserWarning: The Shapely GEOS version (3.4.3-CAPI-1.8.3 r4285) is incompatible with the GEOS version PyGEOS was compiled with (3.9.0-CAPI-1.16.2). Conversions between both will be slow.\n",
      "  warnings.warn(\n"
     ]
    }
   ],
   "source": [
    "%matplotlib inline\n",
    "\n",
    "from pysal.model import spreg\n",
    "from pysal.lib import weights\n",
    "from pysal.explore import esda\n",
    "from scipy import stats\n",
    "import statsmodels.formula.api as sm\n",
    "import numpy\n",
    "import pandas\n",
    "import geopandas as gpd, pandas as pd\n",
    "import matplotlib.pyplot as plt\n",
    "import seaborn\n",
    "import osmnx as ox"
   ]
  },
  {
   "cell_type": "code",
   "execution_count": 2,
   "metadata": {},
   "outputs": [],
   "source": [
    "# in case of encountering problems with GEOS or GDAL, disable speedups from shapely\n",
    "from shapely import speedups\n",
    "speedups.disable()"
   ]
  },
  {
   "cell_type": "code",
   "execution_count": 3,
   "metadata": {},
   "outputs": [
    {
     "name": "stdout",
     "output_type": "stream",
     "text": [
      "<class 'geopandas.geodataframe.GeoDataFrame'>\n",
      "RangeIndex: 6092 entries, 0 to 6091\n",
      "Data columns (total 23 columns):\n",
      " #   Column              Non-Null Count  Dtype   \n",
      "---  ------              --------------  -----   \n",
      " 0   accommodates        6092 non-null   int64   \n",
      " 1   bathrooms           6092 non-null   float64 \n",
      " 2   bedrooms            6092 non-null   float64 \n",
      " 3   beds                6092 non-null   float64 \n",
      " 4   neighborhood        6092 non-null   object  \n",
      " 5   pool                6092 non-null   int64   \n",
      " 6   d2balboa            6092 non-null   float64 \n",
      " 7   coastal             6092 non-null   int64   \n",
      " 8   price               6092 non-null   float64 \n",
      " 9   log_price           6092 non-null   float64 \n",
      " 10  id                  6092 non-null   int64   \n",
      " 11  pg_Apartment        6092 non-null   int64   \n",
      " 12  pg_Condominium      6092 non-null   int64   \n",
      " 13  pg_House            6092 non-null   int64   \n",
      " 14  pg_Other            6092 non-null   int64   \n",
      " 15  pg_Townhouse        6092 non-null   int64   \n",
      " 16  rt_Entire_home/apt  6092 non-null   int64   \n",
      " 17  rt_Private_room     6092 non-null   int64   \n",
      " 18  rt_Shared_room      6092 non-null   int64   \n",
      " 19  balboa_dist         6092 non-null   object  \n",
      " 20  park_dist           6092 non-null   float64 \n",
      " 21  counts_normalised   6092 non-null   float64 \n",
      " 22  geometry            6092 non-null   geometry\n",
      "dtypes: float64(8), geometry(1), int64(12), object(2)\n",
      "memory usage: 1.1+ MB\n"
     ]
    }
   ],
   "source": [
    "db = gpd.read_file(\"../data/san_diego_regr_data.geojson\")\n",
    "db.info()"
   ]
  },
  {
   "cell_type": "code",
   "execution_count": 4,
   "metadata": {},
   "outputs": [
    {
     "name": "stdout",
     "output_type": "stream",
     "text": [
      "epsg:4326\n"
     ]
    },
    {
     "data": {
      "text/html": [
       "<div>\n",
       "<style scoped>\n",
       "    .dataframe tbody tr th:only-of-type {\n",
       "        vertical-align: middle;\n",
       "    }\n",
       "\n",
       "    .dataframe tbody tr th {\n",
       "        vertical-align: top;\n",
       "    }\n",
       "\n",
       "    .dataframe thead th {\n",
       "        text-align: right;\n",
       "    }\n",
       "</style>\n",
       "<table border=\"1\" class=\"dataframe\">\n",
       "  <thead>\n",
       "    <tr style=\"text-align: right;\">\n",
       "      <th></th>\n",
       "      <th>accommodates</th>\n",
       "      <th>bathrooms</th>\n",
       "      <th>bedrooms</th>\n",
       "      <th>beds</th>\n",
       "      <th>neighborhood</th>\n",
       "      <th>pool</th>\n",
       "      <th>d2balboa</th>\n",
       "      <th>coastal</th>\n",
       "      <th>price</th>\n",
       "      <th>log_price</th>\n",
       "      <th>...</th>\n",
       "      <th>pg_House</th>\n",
       "      <th>pg_Other</th>\n",
       "      <th>pg_Townhouse</th>\n",
       "      <th>rt_Entire_home/apt</th>\n",
       "      <th>rt_Private_room</th>\n",
       "      <th>rt_Shared_room</th>\n",
       "      <th>balboa_dist</th>\n",
       "      <th>park_dist</th>\n",
       "      <th>counts_normalised</th>\n",
       "      <th>geometry</th>\n",
       "    </tr>\n",
       "  </thead>\n",
       "  <tbody>\n",
       "    <tr>\n",
       "      <th>0</th>\n",
       "      <td>5</td>\n",
       "      <td>2.0</td>\n",
       "      <td>2.0</td>\n",
       "      <td>2.0</td>\n",
       "      <td>North Hills</td>\n",
       "      <td>0</td>\n",
       "      <td>2.972077</td>\n",
       "      <td>0</td>\n",
       "      <td>425.0</td>\n",
       "      <td>6.052089</td>\n",
       "      <td>...</td>\n",
       "      <td>1</td>\n",
       "      <td>0</td>\n",
       "      <td>0</td>\n",
       "      <td>1</td>\n",
       "      <td>0</td>\n",
       "      <td>0</td>\n",
       "      <td>1776.874</td>\n",
       "      <td>1776.874</td>\n",
       "      <td>0.000007</td>\n",
       "      <td>POINT (-117.12971 32.75399)</td>\n",
       "    </tr>\n",
       "    <tr>\n",
       "      <th>1</th>\n",
       "      <td>2</td>\n",
       "      <td>1.0</td>\n",
       "      <td>1.0</td>\n",
       "      <td>1.0</td>\n",
       "      <td>North Hills</td>\n",
       "      <td>0</td>\n",
       "      <td>2.493893</td>\n",
       "      <td>0</td>\n",
       "      <td>99.0</td>\n",
       "      <td>4.595120</td>\n",
       "      <td>...</td>\n",
       "      <td>0</td>\n",
       "      <td>0</td>\n",
       "      <td>0</td>\n",
       "      <td>0</td>\n",
       "      <td>1</td>\n",
       "      <td>0</td>\n",
       "      <td>1540.368</td>\n",
       "      <td>1540.368</td>\n",
       "      <td>0.000007</td>\n",
       "      <td>POINT (-117.14121 32.75327)</td>\n",
       "    </tr>\n",
       "    <tr>\n",
       "      <th>2</th>\n",
       "      <td>2</td>\n",
       "      <td>0.0</td>\n",
       "      <td>1.0</td>\n",
       "      <td>1.0</td>\n",
       "      <td>North Hills</td>\n",
       "      <td>1</td>\n",
       "      <td>2.548985</td>\n",
       "      <td>0</td>\n",
       "      <td>65.0</td>\n",
       "      <td>4.174387</td>\n",
       "      <td>...</td>\n",
       "      <td>0</td>\n",
       "      <td>1</td>\n",
       "      <td>0</td>\n",
       "      <td>1</td>\n",
       "      <td>0</td>\n",
       "      <td>0</td>\n",
       "      <td>2595.122</td>\n",
       "      <td>2595.122</td>\n",
       "      <td>0.000007</td>\n",
       "      <td>POINT (-117.11918 32.73188)</td>\n",
       "    </tr>\n",
       "    <tr>\n",
       "      <th>3</th>\n",
       "      <td>2</td>\n",
       "      <td>1.0</td>\n",
       "      <td>1.0</td>\n",
       "      <td>1.0</td>\n",
       "      <td>North Hills</td>\n",
       "      <td>0</td>\n",
       "      <td>1.791777</td>\n",
       "      <td>0</td>\n",
       "      <td>42.0</td>\n",
       "      <td>3.737670</td>\n",
       "      <td>...</td>\n",
       "      <td>0</td>\n",
       "      <td>0</td>\n",
       "      <td>0</td>\n",
       "      <td>0</td>\n",
       "      <td>1</td>\n",
       "      <td>0</td>\n",
       "      <td>583.347</td>\n",
       "      <td>583.347</td>\n",
       "      <td>0.000007</td>\n",
       "      <td>POINT (-117.14423 32.74730)</td>\n",
       "    </tr>\n",
       "    <tr>\n",
       "      <th>4</th>\n",
       "      <td>2</td>\n",
       "      <td>1.0</td>\n",
       "      <td>1.0</td>\n",
       "      <td>1.0</td>\n",
       "      <td>North Hills</td>\n",
       "      <td>0</td>\n",
       "      <td>1.642844</td>\n",
       "      <td>0</td>\n",
       "      <td>47.0</td>\n",
       "      <td>3.850148</td>\n",
       "      <td>...</td>\n",
       "      <td>0</td>\n",
       "      <td>0</td>\n",
       "      <td>0</td>\n",
       "      <td>0</td>\n",
       "      <td>1</td>\n",
       "      <td>0</td>\n",
       "      <td>501.974</td>\n",
       "      <td>501.974</td>\n",
       "      <td>0.000007</td>\n",
       "      <td>POINT (-117.14406 32.74594)</td>\n",
       "    </tr>\n",
       "  </tbody>\n",
       "</table>\n",
       "<p>5 rows × 23 columns</p>\n",
       "</div>"
      ],
      "text/plain": [
       "   accommodates  bathrooms  bedrooms  beds neighborhood  pool  d2balboa  \\\n",
       "0             5        2.0       2.0   2.0  North Hills     0  2.972077   \n",
       "1             2        1.0       1.0   1.0  North Hills     0  2.493893   \n",
       "2             2        0.0       1.0   1.0  North Hills     1  2.548985   \n",
       "3             2        1.0       1.0   1.0  North Hills     0  1.791777   \n",
       "4             2        1.0       1.0   1.0  North Hills     0  1.642844   \n",
       "\n",
       "   coastal  price  log_price  ...  pg_House  pg_Other  pg_Townhouse  \\\n",
       "0        0  425.0   6.052089  ...         1         0             0   \n",
       "1        0   99.0   4.595120  ...         0         0             0   \n",
       "2        0   65.0   4.174387  ...         0         1             0   \n",
       "3        0   42.0   3.737670  ...         0         0             0   \n",
       "4        0   47.0   3.850148  ...         0         0             0   \n",
       "\n",
       "   rt_Entire_home/apt  rt_Private_room  rt_Shared_room  balboa_dist  \\\n",
       "0                   1                0               0     1776.874   \n",
       "1                   0                1               0     1540.368   \n",
       "2                   1                0               0     2595.122   \n",
       "3                   0                1               0      583.347   \n",
       "4                   0                1               0      501.974   \n",
       "\n",
       "   park_dist  counts_normalised                     geometry  \n",
       "0   1776.874           0.000007  POINT (-117.12971 32.75399)  \n",
       "1   1540.368           0.000007  POINT (-117.14121 32.75327)  \n",
       "2   2595.122           0.000007  POINT (-117.11918 32.73188)  \n",
       "3    583.347           0.000007  POINT (-117.14423 32.74730)  \n",
       "4    501.974           0.000007  POINT (-117.14406 32.74594)  \n",
       "\n",
       "[5 rows x 23 columns]"
      ]
     },
     "execution_count": 4,
     "metadata": {},
     "output_type": "execute_result"
    }
   ],
   "source": [
    "print(db.crs)\n",
    "db.head()"
   ]
  },
  {
   "cell_type": "markdown",
   "metadata": {},
   "source": [
    "These are the main (non-spatial) explanatory or predictive variables we will use for this regression excercise."
   ]
  },
  {
   "cell_type": "code",
   "execution_count": 5,
   "metadata": {},
   "outputs": [],
   "source": [
    "variable_names = [\n",
    "    'accommodates', \n",
    "    'bathrooms', \n",
    "    'bedrooms', \n",
    "    'beds', \n",
    "    'rt_Private_room', \n",
    "    'rt_Shared_room',\n",
    "    'pg_Condominium', \n",
    "    'pg_House', \n",
    "    'pg_Other', \n",
    "    'pg_Townhouse'\n",
    "]"
   ]
  },
  {
   "cell_type": "markdown",
   "metadata": {},
   "source": [
    "### Classical regression"
   ]
  },
  {
   "cell_type": "markdown",
   "metadata": {},
   "source": [
    "Before we move on to spatial regression, let's first look at what classical regression has to offer for this project.\n",
    "As we know, classical linear regression is about explaining the variation of a **_dependent_** variable as a linear combination of other, **_independent_** or **_explanatory_** variables. For example, the Airbnb listing prices can be modelled as:\n",
    "\n",
    "$$\n",
    "P_{i}=\\alpha+\\sum_{k} \\mathbf{X}_{i k} \\beta_{k}+\\epsilon_{i},\n",
    "$$\n",
    "\n",
    "where $P_{i}$ is the price of Airbnb listing $i$, and $X$ is a set of covariates that we assume to being able to explain the price. $\\beta$ is the vector of parameters we are trying to estimate, containing information about the way and the extent each varable is related to the price, and $\\alpha$ is the constant term that can be interpreted as being the average of the prices when all explanatory variables are zero. Finally, the error term $\\epsilon_{i}$ can be interpreted as capturing the influence of factors not included in the model."
   ]
  },
  {
   "cell_type": "markdown",
   "metadata": {},
   "source": [
    "Python offers many standard tools for working with linear regressions: [statsmodels](https://www.statsmodels.org/stable/index.html), [scikit-learn](https://scikit-learn.org/stable/modules/linear_model.html), and [PySAL](https://pysal.org/spreg/) - our main tool for this project. "
   ]
  },
  {
   "cell_type": "markdown",
   "metadata": {},
   "source": [
    "Here is the basic code structure for running a simple linear regression model with the `spreg` sub-package of the `PySAL` package:"
   ]
  },
  {
   "cell_type": "code",
   "execution_count": 6,
   "metadata": {},
   "outputs": [],
   "source": [
    "m1 = spreg.OLS(\n",
    "    db[['log_price']].values, \n",
    "    db[variable_names].values,\n",
    "    name_y='log_price', \n",
    "    name_x=variable_names\n",
    ")"
   ]
  },
  {
   "cell_type": "markdown",
   "metadata": {},
   "source": [
    "After which, inspecting the regression results is even easier:"
   ]
  },
  {
   "cell_type": "code",
   "execution_count": 7,
   "metadata": {},
   "outputs": [
    {
     "name": "stdout",
     "output_type": "stream",
     "text": [
      "REGRESSION\n",
      "----------\n",
      "SUMMARY OF OUTPUT: ORDINARY LEAST SQUARES\n",
      "-----------------------------------------\n",
      "Data set            :     unknown\n",
      "Weights matrix      :        None\n",
      "Dependent Variable  :   log_price                Number of Observations:        6092\n",
      "Mean dependent var  :      4.9976                Number of Variables   :          11\n",
      "S.D. dependent var  :      0.8072                Degrees of Freedom    :        6081\n",
      "R-squared           :      0.6681\n",
      "Adjusted R-squared  :      0.6676\n",
      "Sum squared residual:    1317.265                F-statistic           :   1224.1294\n",
      "Sigma-square        :       0.217                Prob(F-statistic)     :           0\n",
      "S.E. of regression  :       0.465                Log likelihood        :   -3979.472\n",
      "Sigma-square ML     :       0.216                Akaike info criterion :    7980.944\n",
      "S.E of regression ML:      0.4650                Schwarz criterion     :    8054.806\n",
      "\n",
      "------------------------------------------------------------------------------------\n",
      "            Variable     Coefficient       Std.Error     t-Statistic     Probability\n",
      "------------------------------------------------------------------------------------\n",
      "            CONSTANT       4.3881044       0.0161261     272.1126037       0.0000000\n",
      "        accommodates       0.0833512       0.0050833      16.3971299       0.0000000\n",
      "           bathrooms       0.1929978       0.0109763      17.5831239       0.0000000\n",
      "            bedrooms       0.1524057       0.0111412      13.6794874       0.0000000\n",
      "                beds      -0.0417576       0.0069434      -6.0139547       0.0000000\n",
      "     rt_Private_room      -0.5512154       0.0159324     -34.5970835       0.0000000\n",
      "      rt_Shared_room      -1.2424534       0.0387468     -32.0659618       0.0000000\n",
      "      pg_Condominium       0.1438275       0.0221622       6.4897629       0.0000000\n",
      "            pg_House      -0.0097992       0.0145574      -0.6731447       0.5008808\n",
      "            pg_Other       0.1426103       0.0228466       6.2420905       0.0000000\n",
      "        pg_Townhouse      -0.0412416       0.0344412      -1.1974510       0.2311775\n",
      "------------------------------------------------------------------------------------\n",
      "\n",
      "REGRESSION DIAGNOSTICS\n",
      "MULTICOLLINEARITY CONDITION NUMBER           11.964\n",
      "\n",
      "TEST ON NORMALITY OF ERRORS\n",
      "TEST                             DF        VALUE           PROB\n",
      "Jarque-Bera                       2        2667.838           0.0000\n",
      "\n",
      "DIAGNOSTICS FOR HETEROSKEDASTICITY\n",
      "RANDOM COEFFICIENTS\n",
      "TEST                             DF        VALUE           PROB\n",
      "Breusch-Pagan test               10         322.882           0.0000\n",
      "Koenker-Bassett test             10         135.630           0.0000\n",
      "================================ END OF REPORT =====================================\n"
     ]
    }
   ],
   "source": [
    "print(m1.summary)"
   ]
  },
  {
   "cell_type": "markdown",
   "metadata": {},
   "source": [
    "### Hidden spatial structures"
   ]
  },
  {
   "cell_type": "markdown",
   "metadata": {},
   "source": [
    "For a simple regression model, our results are already quite good, predicting roughly 67% (R^2 = 0.67) of the variation in the mean Airbnb listing prices in San Diego, based on the explanatory variables we have included in the model so far. However, as discussed above, our model might result in some spatial clustering of errors. One simple way to check this is looking at **the correlation between the error in predicting an AirBnB and the error in predicting its nearest neighbor**. To see this, we first split our data up by regions and see if we've got some spatial structure in our residuals. Domain knowledge or just common sense tells us that our model might not include any information about beaches, an important factor for why people live and come for vacation to San Diego. Therefore, we might want to see whether or not our errors are higher or lower depending on whether or not an AirBnB is in a coastal neighbourhood:"
   ]
  },
  {
   "cell_type": "code",
   "execution_count": 8,
   "metadata": {},
   "outputs": [
    {
     "data": {
      "text/plain": [
       "array([[ 0.649736  ],\n",
       "       [ 0.28788249],\n",
       "       [-0.63367796],\n",
       "       ...,\n",
       "       [-1.07852021],\n",
       "       [ 0.10345214],\n",
       "       [ 0.30599187]])"
      ]
     },
     "execution_count": 8,
     "metadata": {},
     "output_type": "execute_result"
    }
   ],
   "source": [
    "m1.u"
   ]
  },
  {
   "cell_type": "code",
   "execution_count": 9,
   "metadata": {},
   "outputs": [
    {
     "data": {
      "image/png": "[encoded data removed]",
      "text/plain": [
       "<Figure size 432x288 with 1 Axes>"
      ]
     },
     "metadata": {
      "needs_background": "light"
     },
     "output_type": "display_data"
    }
   ],
   "source": [
    "is_coastal = db.coastal.astype(bool)\n",
    "coastal = m1.u[is_coastal]\n",
    "not_coastal = m1.u[~is_coastal]\n",
    "plt.hist(coastal, density=True, label='Coastal')\n",
    "plt.hist(\n",
    "    not_coastal, \n",
    "    histtype='step',\n",
    "    density=True, \n",
    "    linewidth=4, \n",
    "    label='Not Coastal'\n",
    ")\n",
    "plt.vlines(0,0,1, linestyle=\":\", color='k', linewidth=4)\n",
    "plt.legend()\n",
    "plt.title(\"Coastal and non-coastal error distributions\")\n",
    "plt.show()"
   ]
  },
  {
   "cell_type": "markdown",
   "metadata": {},
   "source": [
    "To statistically ascertain the difference in the error distributions we see above, we use a simple [T-test](https://en.wikipedia.org/wiki/Student%27s_t-test):"
   ]
  },
  {
   "cell_type": "code",
   "execution_count": 10,
   "metadata": {},
   "outputs": [
    {
     "data": {
      "text/plain": [
       "Ttest_indResult(statistic=array([13.95970895]), pvalue=array([1.28345431e-43]))"
      ]
     },
     "execution_count": 10,
     "metadata": {},
     "output_type": "execute_result"
    }
   ],
   "source": [
    "stats.ttest_ind(coastal, not_coastal)"
   ]
  },
  {
   "cell_type": "markdown",
   "metadata": {},
   "source": [
    "We should be careful with one-off hypotheses regarding the spatial desirability of locations in San Diego. It might be the case that a location close to the beach, for example, might fall behind in desirability due to pollution or noise, despite its proximity to the ocean. Therefore, a more intelligent thing to do is to look at the full distribution of model residuals in each neighbourhood."
   ]
  },
  {
   "cell_type": "markdown",
   "metadata": {},
   "source": [
    "To achieve visual clarity, let's first sort the data by the median residual in that neighborhood, and then make a box plot displaying the distribution of residuals in each neighborhood:"
   ]
  },
  {
   "cell_type": "code",
   "execution_count": 11,
   "metadata": {},
   "outputs": [
    {
     "data": {
      "text/html": [
       "<div>\n",
       "<style scoped>\n",
       "    .dataframe tbody tr th:only-of-type {\n",
       "        vertical-align: middle;\n",
       "    }\n",
       "\n",
       "    .dataframe tbody tr th {\n",
       "        vertical-align: top;\n",
       "    }\n",
       "\n",
       "    .dataframe thead th {\n",
       "        text-align: right;\n",
       "    }\n",
       "</style>\n",
       "<table border=\"1\" class=\"dataframe\">\n",
       "  <thead>\n",
       "    <tr style=\"text-align: right;\">\n",
       "      <th></th>\n",
       "      <th>hood_residual</th>\n",
       "    </tr>\n",
       "    <tr>\n",
       "      <th>neighborhood</th>\n",
       "      <th></th>\n",
       "    </tr>\n",
       "  </thead>\n",
       "  <tbody>\n",
       "    <tr>\n",
       "      <th>Balboa Park</th>\n",
       "      <td>-0.165343</td>\n",
       "    </tr>\n",
       "    <tr>\n",
       "      <th>Bay Ho</th>\n",
       "      <td>-0.180042</td>\n",
       "    </tr>\n",
       "    <tr>\n",
       "      <th>Bay Park</th>\n",
       "      <td>-0.063332</td>\n",
       "    </tr>\n",
       "    <tr>\n",
       "      <th>Carmel Valley</th>\n",
       "      <td>-0.003527</td>\n",
       "    </tr>\n",
       "    <tr>\n",
       "      <th>City Heights West</th>\n",
       "      <td>-0.327146</td>\n",
       "    </tr>\n",
       "  </tbody>\n",
       "</table>\n",
       "</div>"
      ],
      "text/plain": [
       "                   hood_residual\n",
       "neighborhood                    \n",
       "Balboa Park            -0.165343\n",
       "Bay Ho                 -0.180042\n",
       "Bay Park               -0.063332\n",
       "Carmel Valley          -0.003527\n",
       "City Heights West      -0.327146"
      ]
     },
     "execution_count": 11,
     "metadata": {},
     "output_type": "execute_result"
    }
   ],
   "source": [
    "db['residual'] = m1.u\n",
    "medians = db.groupby(\n",
    "    \"neighborhood\"\n",
    ").residual.median().to_frame(\n",
    "    'hood_residual'\n",
    ")\n",
    "medians.head()"
   ]
  },
  {
   "cell_type": "code",
   "execution_count": 12,
   "metadata": {},
   "outputs": [
    {
     "data": {
      "text/html": [
       "<div>\n",
       "<style scoped>\n",
       "    .dataframe tbody tr th:only-of-type {\n",
       "        vertical-align: middle;\n",
       "    }\n",
       "\n",
       "    .dataframe tbody tr th {\n",
       "        vertical-align: top;\n",
       "    }\n",
       "\n",
       "    .dataframe thead th {\n",
       "        text-align: right;\n",
       "    }\n",
       "</style>\n",
       "<table border=\"1\" class=\"dataframe\">\n",
       "  <thead>\n",
       "    <tr style=\"text-align: right;\">\n",
       "      <th></th>\n",
       "      <th>accommodates</th>\n",
       "      <th>bathrooms</th>\n",
       "      <th>bedrooms</th>\n",
       "      <th>beds</th>\n",
       "      <th>neighborhood</th>\n",
       "      <th>pool</th>\n",
       "      <th>d2balboa</th>\n",
       "      <th>coastal</th>\n",
       "      <th>price</th>\n",
       "      <th>log_price</th>\n",
       "      <th>...</th>\n",
       "      <th>pg_Other</th>\n",
       "      <th>pg_Townhouse</th>\n",
       "      <th>rt_Entire_home/apt</th>\n",
       "      <th>rt_Private_room</th>\n",
       "      <th>rt_Shared_room</th>\n",
       "      <th>balboa_dist</th>\n",
       "      <th>park_dist</th>\n",
       "      <th>counts_normalised</th>\n",
       "      <th>geometry</th>\n",
       "      <th>residual</th>\n",
       "    </tr>\n",
       "  </thead>\n",
       "  <tbody>\n",
       "    <tr>\n",
       "      <th>0</th>\n",
       "      <td>5</td>\n",
       "      <td>2.0</td>\n",
       "      <td>2.0</td>\n",
       "      <td>2.0</td>\n",
       "      <td>North Hills</td>\n",
       "      <td>0</td>\n",
       "      <td>2.972077</td>\n",
       "      <td>0</td>\n",
       "      <td>425.0</td>\n",
       "      <td>6.052089</td>\n",
       "      <td>...</td>\n",
       "      <td>0</td>\n",
       "      <td>0</td>\n",
       "      <td>1</td>\n",
       "      <td>0</td>\n",
       "      <td>0</td>\n",
       "      <td>1776.874</td>\n",
       "      <td>1776.874</td>\n",
       "      <td>0.000007</td>\n",
       "      <td>POINT (-117.12971 32.75399)</td>\n",
       "      <td>0.649736</td>\n",
       "    </tr>\n",
       "    <tr>\n",
       "      <th>1</th>\n",
       "      <td>2</td>\n",
       "      <td>1.0</td>\n",
       "      <td>1.0</td>\n",
       "      <td>1.0</td>\n",
       "      <td>North Hills</td>\n",
       "      <td>0</td>\n",
       "      <td>2.493893</td>\n",
       "      <td>0</td>\n",
       "      <td>99.0</td>\n",
       "      <td>4.595120</td>\n",
       "      <td>...</td>\n",
       "      <td>0</td>\n",
       "      <td>0</td>\n",
       "      <td>0</td>\n",
       "      <td>1</td>\n",
       "      <td>0</td>\n",
       "      <td>1540.368</td>\n",
       "      <td>1540.368</td>\n",
       "      <td>0.000007</td>\n",
       "      <td>POINT (-117.14121 32.75327)</td>\n",
       "      <td>0.287882</td>\n",
       "    </tr>\n",
       "    <tr>\n",
       "      <th>2</th>\n",
       "      <td>2</td>\n",
       "      <td>0.0</td>\n",
       "      <td>1.0</td>\n",
       "      <td>1.0</td>\n",
       "      <td>North Hills</td>\n",
       "      <td>1</td>\n",
       "      <td>2.548985</td>\n",
       "      <td>0</td>\n",
       "      <td>65.0</td>\n",
       "      <td>4.174387</td>\n",
       "      <td>...</td>\n",
       "      <td>1</td>\n",
       "      <td>0</td>\n",
       "      <td>1</td>\n",
       "      <td>0</td>\n",
       "      <td>0</td>\n",
       "      <td>2595.122</td>\n",
       "      <td>2595.122</td>\n",
       "      <td>0.000007</td>\n",
       "      <td>POINT (-117.11918 32.73188)</td>\n",
       "      <td>-0.633678</td>\n",
       "    </tr>\n",
       "    <tr>\n",
       "      <th>3</th>\n",
       "      <td>2</td>\n",
       "      <td>1.0</td>\n",
       "      <td>1.0</td>\n",
       "      <td>1.0</td>\n",
       "      <td>North Hills</td>\n",
       "      <td>0</td>\n",
       "      <td>1.791777</td>\n",
       "      <td>0</td>\n",
       "      <td>42.0</td>\n",
       "      <td>3.737670</td>\n",
       "      <td>...</td>\n",
       "      <td>0</td>\n",
       "      <td>0</td>\n",
       "      <td>0</td>\n",
       "      <td>1</td>\n",
       "      <td>0</td>\n",
       "      <td>583.347</td>\n",
       "      <td>583.347</td>\n",
       "      <td>0.000007</td>\n",
       "      <td>POINT (-117.14423 32.74730)</td>\n",
       "      <td>-0.713395</td>\n",
       "    </tr>\n",
       "    <tr>\n",
       "      <th>4</th>\n",
       "      <td>2</td>\n",
       "      <td>1.0</td>\n",
       "      <td>1.0</td>\n",
       "      <td>1.0</td>\n",
       "      <td>North Hills</td>\n",
       "      <td>0</td>\n",
       "      <td>1.642844</td>\n",
       "      <td>0</td>\n",
       "      <td>47.0</td>\n",
       "      <td>3.850148</td>\n",
       "      <td>...</td>\n",
       "      <td>0</td>\n",
       "      <td>0</td>\n",
       "      <td>0</td>\n",
       "      <td>1</td>\n",
       "      <td>0</td>\n",
       "      <td>501.974</td>\n",
       "      <td>501.974</td>\n",
       "      <td>0.000007</td>\n",
       "      <td>POINT (-117.14406 32.74594)</td>\n",
       "      <td>-0.600917</td>\n",
       "    </tr>\n",
       "  </tbody>\n",
       "</table>\n",
       "<p>5 rows × 24 columns</p>\n",
       "</div>"
      ],
      "text/plain": [
       "   accommodates  bathrooms  bedrooms  beds neighborhood  pool  d2balboa  \\\n",
       "0             5        2.0       2.0   2.0  North Hills     0  2.972077   \n",
       "1             2        1.0       1.0   1.0  North Hills     0  2.493893   \n",
       "2             2        0.0       1.0   1.0  North Hills     1  2.548985   \n",
       "3             2        1.0       1.0   1.0  North Hills     0  1.791777   \n",
       "4             2        1.0       1.0   1.0  North Hills     0  1.642844   \n",
       "\n",
       "   coastal  price  log_price  ...  pg_Other  pg_Townhouse  rt_Entire_home/apt  \\\n",
       "0        0  425.0   6.052089  ...         0             0                   1   \n",
       "1        0   99.0   4.595120  ...         0             0                   0   \n",
       "2        0   65.0   4.174387  ...         1             0                   1   \n",
       "3        0   42.0   3.737670  ...         0             0                   0   \n",
       "4        0   47.0   3.850148  ...         0             0                   0   \n",
       "\n",
       "   rt_Private_room  rt_Shared_room  balboa_dist  park_dist  counts_normalised  \\\n",
       "0                0               0     1776.874   1776.874           0.000007   \n",
       "1                1               0     1540.368   1540.368           0.000007   \n",
       "2                0               0     2595.122   2595.122           0.000007   \n",
       "3                1               0      583.347    583.347           0.000007   \n",
       "4                1               0      501.974    501.974           0.000007   \n",
       "\n",
       "                      geometry  residual  \n",
       "0  POINT (-117.12971 32.75399)  0.649736  \n",
       "1  POINT (-117.14121 32.75327)  0.287882  \n",
       "2  POINT (-117.11918 32.73188) -0.633678  \n",
       "3  POINT (-117.14423 32.74730) -0.713395  \n",
       "4  POINT (-117.14406 32.74594) -0.600917  \n",
       "\n",
       "[5 rows x 24 columns]"
      ]
     },
     "execution_count": 12,
     "metadata": {},
     "output_type": "execute_result"
    }
   ],
   "source": [
    "db.head()"
   ]
  },
  {
   "cell_type": "code",
   "execution_count": 13,
   "metadata": {},
   "outputs": [
    {
     "data": {
      "image/png": "[encoded data removed]",
      "text/plain": [
       "<Figure size 1080x216 with 1 Axes>"
      ]
     },
     "metadata": {
      "needs_background": "light"
     },
     "output_type": "display_data"
    }
   ],
   "source": [
    "f = plt.figure(figsize=(15,3))\n",
    "ax = plt.gca()\n",
    "seaborn.boxplot(\n",
    "    x= 'neighborhood', \n",
    "    y= 'residual', \n",
    "    ax = ax,\n",
    "    data=db.merge(\n",
    "        medians, \n",
    "        how='left',\n",
    "        left_on='neighborhood',\n",
    "        right_index=True\n",
    "    ).sort_values(\n",
    "        'hood_residual'), palette='RdBu_r'\n",
    ")\n",
    "f.autofmt_xdate()\n",
    "plt.show()"
   ]
  },
  {
   "cell_type": "markdown",
   "metadata": {},
   "source": [
    "No neighborhood pops out visually compared to others, but some do indeed have higher residuals, such as the well-known downtown tourist neighborhoods areas of the Gaslamp Quarter, Little Italy, or The Core. Thus, there may be a spatial effect of intangible neighborhood attractiveness that makes a difference in this model."
   ]
  },
  {
   "cell_type": "markdown",
   "metadata": {},
   "source": [
    "Another important aspect we need to consider is a possible _spillover_ of model errors in neighbourhoods to their immediate geogrpahic neighbours. This can be due to the fact that people tend to price their listings similarly to their neighbours in an attempt to fit into the competition. Since our simple regression model does not account for this kind of behaviour, errors might form spatial clusters. One simple way to check if this is true, is to plot the relationship between a sample's residuals and its surrounding residuals."
   ]
  },
  {
   "cell_type": "markdown",
   "metadata": {},
   "source": [
    "To do this, we will use **_spatial weights_** we saw in a previous class, to encode the geographic relationships between samples. We start start with a KNN matrix where k=1, representing the linkages of each AirBnB to their closest other listing."
   ]
  },
  {
   "cell_type": "code",
   "execution_count": 14,
   "metadata": {},
   "outputs": [
    {
     "name": "stderr",
     "output_type": "stream",
     "text": [
      "C:\\Users\\gevor\\anaconda3\\lib\\site-packages\\libpysal\\weights\\weights.py:172: UserWarning: The weights matrix is not fully connected: \n",
      " There are 1847 disconnected components.\n",
      "  warnings.warn(message)\n"
     ]
    }
   ],
   "source": [
    "knn = weights.KNN.from_dataframe(db, k=1)"
   ]
  },
  {
   "cell_type": "markdown",
   "metadata": {},
   "source": [
    "This means that, when we compute the spatial lag of that KNN weight and the residual, we get the residual of the AirBnB listing closest to each sample."
   ]
  },
  {
   "cell_type": "code",
   "execution_count": 15,
   "metadata": {},
   "outputs": [
    {
     "data": {
      "image/png": "[encoded data removed]",
      "text/plain": [
       "<Figure size 432x288 with 1 Axes>"
      ]
     },
     "metadata": {
      "needs_background": "light"
     },
     "output_type": "display_data"
    }
   ],
   "source": [
    "lag_residual = weights.spatial_lag.lag_spatial(knn, m1.u)\n",
    "ax = seaborn.regplot(\n",
    "    x = m1.u.flatten(), \n",
    "    y = lag_residual.flatten(), \n",
    "    line_kws=dict(color='orangered')\n",
    ")\n",
    "ax.set_xlabel('Model Residuals - $u$')\n",
    "ax.set_ylabel('Spatial Lag of Model Residuals - $W u$');"
   ]
  },
  {
   "cell_type": "markdown",
   "metadata": {},
   "source": [
    "In the plot above, we see that there indeed is a spatial clustering of model errors. In simple words, when the model tends to over-predict a given Airbnb listing price, it is more likely to over-predict the prices close to it as well."
   ]
  },
  {
   "cell_type": "markdown",
   "metadata": {},
   "source": [
    "Of course, as we grow the number of k nearest neighbours, this relationship will stabilise as differences will be smoothed out.\n",
    "Given this behavior, let's look at the stable k = 20 number of neighbors. Examining the relationship between this stable surrounding average and the focal AirBnB, we can even find clusters in our model error. Recalling the local Moran statistic, we can identify certain areas where our predictions of the AirBnB price tend to be significantly off:"
   ]
  },
  {
   "cell_type": "code",
   "execution_count": 16,
   "metadata": {},
   "outputs": [
    {
     "name": "stderr",
     "output_type": "stream",
     "text": [
      "C:\\Users\\gevor\\anaconda3\\lib\\site-packages\\libpysal\\weights\\weights.py:172: UserWarning: The weights matrix is not fully connected: \n",
      " There are 3 disconnected components.\n",
      "  warnings.warn(message)\n"
     ]
    },
    {
     "data": {
      "image/png": "[encoded data removed]",
      "text/plain": [
       "<Figure size 360x576 with 2 Axes>"
      ]
     },
     "metadata": {
      "needs_background": "light"
     },
     "output_type": "display_data"
    }
   ],
   "source": [
    "knn.reweight(k=20, inplace=True)\n",
    "outliers = esda.moran.Moran_Local(m1.u, knn, permutations=9999)\n",
    "error_clusters = (outliers.q % 2 == 1) # only the cluster cores\n",
    "error_clusters &= (outliers.p_sim <= .001) # filtering out non-significant clusters\n",
    "db_I = db.assign(\n",
    "    error_clusters = error_clusters,\n",
    "    local_I = outliers.Is\n",
    ").query(\n",
    "    \"error_clusters\"\n",
    ").sort_values(\n",
    "    'local_I'\n",
    ")\n",
    "\n",
    "f, ax = plt.subplots(1, figsize=(5, 8))\n",
    "db_I.plot('local_I', cmap='RdBu_r', marker='.', ax=ax, legend=True)\n",
    "plt.show()"
   ]
  },
  {
   "cell_type": "markdown",
   "metadata": {},
   "source": [
    "These are the locations where our model significantly mispredicts both the sample price and the prices in its immediate surroudnings. If we could model the spatial structure of these areas and incorporate it in our model, we would be able to improve our results."
   ]
  },
  {
   "cell_type": "markdown",
   "metadata": {},
   "source": [
    "### Introducing space into the regression framework"
   ]
  },
  {
   "cell_type": "markdown",
   "metadata": {},
   "source": [
    "Essentially, we want to introduce space into our regression framework when we think it plays an important role in the process we are studying, or when space can act as a reasonable proxy for other factors we cannot but should include in our model.\n",
    "\n",
    "Such proxies are typically built as new features representing different kinds of spatial relationships between the observations or nearby locations. We have covered this as part of spatial feature engineering. One such example can be the spatial feature we constructed last time: the distance to Balboa Park - a famous park that contains a zoo and is a popular recreational area in San Diego. We can conjecture that people might be willing to pay more for proximity to the park. If this were true **_and_** we omitted it from our model, we woould indeed see a spatial pattern in the distribution of residuals.\n",
    "\n",
    "Therefore, let’s build a new model containing this distance to Balboa Park covariate. First, though, it helps to visualize the structure of this distance covariate itself:"
   ]
  },
  {
   "cell_type": "code",
   "execution_count": 17,
   "metadata": {},
   "outputs": [],
   "source": [
    "db[\"balboa_dist\"] = pd.to_numeric(db[\"balboa_dist\"], downcast=\"float\") # convert the feature from string to float"
   ]
  },
  {
   "cell_type": "code",
   "execution_count": 18,
   "metadata": {},
   "outputs": [
    {
     "data": {
      "text/plain": [
       "<AxesSubplot:>"
      ]
     },
     "execution_count": 18,
     "metadata": {},
     "output_type": "execute_result"
    },
    {
     "data": {
      "image/png": "[encoded data removed]",
      "text/plain": [
       "<Figure size 432x288 with 1 Axes>"
      ]
     },
     "metadata": {
      "needs_background": "light"
     },
     "output_type": "display_data"
    }
   ],
   "source": [
    "db.plot('balboa_dist', marker='.', s=5)"
   ]
  },
  {
   "cell_type": "code",
   "execution_count": 19,
   "metadata": {},
   "outputs": [],
   "source": [
    "# construct new variables\n",
    "base_names = variable_names\n",
    "balboa_names = variable_names + ['balboa_dist']"
   ]
  },
  {
   "cell_type": "markdown",
   "metadata": {},
   "source": [
    "Now, let's run the new model with the new variables:"
   ]
  },
  {
   "cell_type": "code",
   "execution_count": 20,
   "metadata": {},
   "outputs": [],
   "source": [
    "m2 = spreg.OLS(\n",
    "    db[['log_price']].values, \n",
    "    db[balboa_names].values, \n",
    "    name_y = 'log_price', \n",
    "    name_x = balboa_names\n",
    ")"
   ]
  },
  {
   "cell_type": "code",
   "execution_count": 21,
   "metadata": {},
   "outputs": [
    {
     "name": "stdout",
     "output_type": "stream",
     "text": [
      "REGRESSION\n",
      "----------\n",
      "SUMMARY OF OUTPUT: ORDINARY LEAST SQUARES\n",
      "-----------------------------------------\n",
      "Data set            :     unknown\n",
      "Weights matrix      :        None\n",
      "Dependent Variable  :   log_price                Number of Observations:        6092\n",
      "Mean dependent var  :      4.9976                Number of Variables   :          12\n",
      "S.D. dependent var  :      0.8072                Degrees of Freedom    :        6080\n",
      "R-squared           :      0.6686\n",
      "Adjusted R-squared  :      0.6680\n",
      "Sum squared residual:    1315.273                F-statistic           :   1115.1847\n",
      "Sigma-square        :       0.216                Prob(F-statistic)     :           0\n",
      "S.E. of regression  :       0.465                Log likelihood        :   -3974.861\n",
      "Sigma-square ML     :       0.216                Akaike info criterion :    7973.723\n",
      "S.E of regression ML:      0.4647                Schwarz criterion     :    8054.300\n",
      "\n",
      "------------------------------------------------------------------------------------\n",
      "            Variable     Coefficient       Std.Error     t-Statistic     Probability\n",
      "------------------------------------------------------------------------------------\n",
      "            CONSTANT       4.3750052       0.0166832     262.2399613       0.0000000\n",
      "        accommodates       0.0836485       0.0050808      16.4636621       0.0000000\n",
      "           bathrooms       0.1897710       0.0110203      17.2200999       0.0000000\n",
      "            bedrooms       0.1493384       0.0111795      13.3582846       0.0000000\n",
      "                beds      -0.0413051       0.0069404      -5.9514245       0.0000000\n",
      "     rt_Private_room      -0.5552756       0.0159778     -34.7529657       0.0000000\n",
      "      rt_Shared_room      -1.2369327       0.0387634     -31.9098308       0.0000000\n",
      "      pg_Condominium       0.1382622       0.0222231       6.2215653       0.0000000\n",
      "            pg_House      -0.0145702       0.0146323      -0.9957596       0.3194066\n",
      "            pg_Other       0.1427458       0.0228312       6.2522256       0.0000000\n",
      "        pg_Townhouse      -0.0480725       0.0344915      -1.3937486       0.1634445\n",
      "         balboa_dist       0.0000026       0.0000008       3.0348154       0.0024170\n",
      "------------------------------------------------------------------------------------\n",
      "\n",
      "REGRESSION DIAGNOSTICS\n",
      "MULTICOLLINEARITY CONDITION NUMBER           12.705\n",
      "\n",
      "TEST ON NORMALITY OF ERRORS\n",
      "TEST                             DF        VALUE           PROB\n",
      "Jarque-Bera                       2        2742.204           0.0000\n",
      "\n",
      "DIAGNOSTICS FOR HETEROSKEDASTICITY\n",
      "RANDOM COEFFICIENTS\n",
      "TEST                             DF        VALUE           PROB\n",
      "Breusch-Pagan test               11         312.776           0.0000\n",
      "Koenker-Bassett test             11         130.230           0.0000\n",
      "================================ END OF REPORT =====================================\n"
     ]
    }
   ],
   "source": [
    "print(m2.summary)"
   ]
  },
  {
   "cell_type": "markdown",
   "metadata": {},
   "source": [
    "Unfortunately, when we look at the regression diagnostics above, we see that this explanatory variable is not quite as helpful as we expected. It is not statistically significant at conventional significance levels, the model fit does not substantially change, and, there still appears to be spatial structure in our model's residuals:"
   ]
  },
  {
   "cell_type": "code",
   "execution_count": 22,
   "metadata": {},
   "outputs": [
    {
     "data": {
      "image/png": "[encoded data removed]",
      "text/plain": [
       "<Figure size 432x288 with 1 Axes>"
      ]
     },
     "metadata": {
      "needs_background": "light"
     },
     "output_type": "display_data"
    }
   ],
   "source": [
    "lag_residual = weights.spatial_lag.lag_spatial(knn, m2.u)\n",
    "seaborn.regplot(\n",
    "    x = m2.u.flatten(), \n",
    "    y = lag_residual.flatten(), \n",
    "    line_kws=dict(color='orangered')\n",
    ");"
   ]
  },
  {
   "cell_type": "markdown",
   "metadata": {},
   "source": [
    "Most importantly, the distance to Balboa Park variable does not fit our theory about how distance to amenity should affect the price of an AirBnB; the coefficient estimate is positive, meaning that people are paying a premium to be further from the Park. "
   ]
  },
  {
   "cell_type": "markdown",
   "metadata": {},
   "source": [
    "So, let's try the distance to the _closest_ park instead of the distance to Balboa park."
   ]
  },
  {
   "cell_type": "code",
   "execution_count": 23,
   "metadata": {},
   "outputs": [
    {
     "data": {
      "text/plain": [
       "<AxesSubplot:>"
      ]
     },
     "execution_count": 23,
     "metadata": {},
     "output_type": "execute_result"
    },
    {
     "data": {
      "image/png": "[encoded data removed]",
      "text/plain": [
       "<Figure size 432x288 with 1 Axes>"
      ]
     },
     "metadata": {
      "needs_background": "light"
     },
     "output_type": "display_data"
    }
   ],
   "source": [
    "db.plot('park_dist', marker='.', s=5)"
   ]
  },
  {
   "cell_type": "code",
   "execution_count": 24,
   "metadata": {},
   "outputs": [],
   "source": [
    "# construct new variables\n",
    "base_names = variable_names\n",
    "closest_park_names = variable_names + ['park_dist']"
   ]
  },
  {
   "cell_type": "markdown",
   "metadata": {},
   "source": [
    "Now, let's run the new model with the new variables:"
   ]
  },
  {
   "cell_type": "code",
   "execution_count": 25,
   "metadata": {},
   "outputs": [],
   "source": [
    "m2_1 = spreg.OLS(\n",
    "    db[['log_price']].values, \n",
    "    db[balboa_names].values, \n",
    "    name_y = 'log_price', \n",
    "    name_x = closest_park_names\n",
    ")"
   ]
  },
  {
   "cell_type": "code",
   "execution_count": 26,
   "metadata": {},
   "outputs": [
    {
     "name": "stdout",
     "output_type": "stream",
     "text": [
      "REGRESSION\n",
      "----------\n",
      "SUMMARY OF OUTPUT: ORDINARY LEAST SQUARES\n",
      "-----------------------------------------\n",
      "Data set            :     unknown\n",
      "Weights matrix      :        None\n",
      "Dependent Variable  :   log_price                Number of Observations:        6092\n",
      "Mean dependent var  :      4.9976                Number of Variables   :          12\n",
      "S.D. dependent var  :      0.8072                Degrees of Freedom    :        6080\n",
      "R-squared           :      0.6686\n",
      "Adjusted R-squared  :      0.6680\n",
      "Sum squared residual:    1315.273                F-statistic           :   1115.1847\n",
      "Sigma-square        :       0.216                Prob(F-statistic)     :           0\n",
      "S.E. of regression  :       0.465                Log likelihood        :   -3974.861\n",
      "Sigma-square ML     :       0.216                Akaike info criterion :    7973.723\n",
      "S.E of regression ML:      0.4647                Schwarz criterion     :    8054.300\n",
      "\n",
      "------------------------------------------------------------------------------------\n",
      "            Variable     Coefficient       Std.Error     t-Statistic     Probability\n",
      "------------------------------------------------------------------------------------\n",
      "            CONSTANT       4.3750052       0.0166832     262.2399613       0.0000000\n",
      "        accommodates       0.0836485       0.0050808      16.4636621       0.0000000\n",
      "           bathrooms       0.1897710       0.0110203      17.2200999       0.0000000\n",
      "            bedrooms       0.1493384       0.0111795      13.3582846       0.0000000\n",
      "                beds      -0.0413051       0.0069404      -5.9514245       0.0000000\n",
      "     rt_Private_room      -0.5552756       0.0159778     -34.7529657       0.0000000\n",
      "      rt_Shared_room      -1.2369327       0.0387634     -31.9098308       0.0000000\n",
      "      pg_Condominium       0.1382622       0.0222231       6.2215653       0.0000000\n",
      "            pg_House      -0.0145702       0.0146323      -0.9957596       0.3194066\n",
      "            pg_Other       0.1427458       0.0228312       6.2522256       0.0000000\n",
      "        pg_Townhouse      -0.0480725       0.0344915      -1.3937486       0.1634445\n",
      "           park_dist       0.0000026       0.0000008       3.0348154       0.0024170\n",
      "------------------------------------------------------------------------------------\n",
      "\n",
      "REGRESSION DIAGNOSTICS\n",
      "MULTICOLLINEARITY CONDITION NUMBER           12.705\n",
      "\n",
      "TEST ON NORMALITY OF ERRORS\n",
      "TEST                             DF        VALUE           PROB\n",
      "Jarque-Bera                       2        2742.204           0.0000\n",
      "\n",
      "DIAGNOSTICS FOR HETEROSKEDASTICITY\n",
      "RANDOM COEFFICIENTS\n",
      "TEST                             DF        VALUE           PROB\n",
      "Breusch-Pagan test               11         312.776           0.0000\n",
      "Koenker-Bassett test             11         130.230           0.0000\n",
      "================================ END OF REPORT =====================================\n"
     ]
    }
   ],
   "source": [
    "print(m2_1.summary)"
   ]
  },
  {
   "cell_type": "markdown",
   "metadata": {},
   "source": [
    "Another disappointment... no significant effect here as well."
   ]
  },
  {
   "cell_type": "markdown",
   "metadata": {},
   "source": [
    "### Spatial heterogeneity"
   ]
  },
  {
   "cell_type": "markdown",
   "metadata": {},
   "source": [
    "So far, we have assumed that our spatial proximity variable represents the willingness to pay more for being close to a recreational zone. However, not all neighborhoods are qually attractive; some neighborhoods may be more lucrative than others, regardless of their proximity to Balboa Park. When this is the case, we need some way to account for the fact that each neighborhood may experience these kinds of unique effects. One way to do this is by capturing **_spatial heterogeneity_**. In principle, **spatial heterogeneity means that the parameters of the model may change in different places**. For example, changes to the intercept, $\\alpha$, may reflect the fact that different areas have different baseline exposures to a given process. Changes to the slope terms, $\\beta$, may indicate some kind of geographical influence factor, such as when a government policy is applied differently across areas. Finally, changes to the variance of the residuals, commonly denoted $\\sigma^{2}$, can introduce spatial heteroskedasticity. We deal with the first two below."
   ]
  },
  {
   "cell_type": "markdown",
   "metadata": {},
   "source": [
    "To illustrate this, we start by allowing a different constant term in different neighbourhoods, i.e. we consider a variable constant term across neighbourhoods. To achieve this, we create a dummy variable denoting whether an Airbnb listing belongs to a given neighbourhood (`1`) or not (`0`). Now our regression equation becomes:"
   ]
  },
  {
   "cell_type": "markdown",
   "metadata": {},
   "source": [
    "$$\n",
    "\\log P_{i}=\\alpha_{r}+\\sum_{k} \\mathbf{X}_{i k} \\beta_{k}+\\epsilon_{i}\n",
    "$$\n",
    "\n",
    "where, as you can see, we are now allowing the constant term, $\\alpha$, to vary by neighborhood $r$, $\\alpha_{r}$. "
   ]
  },
  {
   "cell_type": "markdown",
   "metadata": {},
   "source": [
    "We will implement the above model in two different ways. First, we look at `statsmodels`. This package provides a formula-like API, which allows us to express the equation we wish to estimate directly:"
   ]
  },
  {
   "cell_type": "code",
   "execution_count": 27,
   "metadata": {},
   "outputs": [
    {
     "name": "stdout",
     "output_type": "stream",
     "text": [
      "log_price ~ accommodates + bathrooms + bedrooms + beds + rt_Private_room + rt_Shared_room + pg_Condominium + pg_House + pg_Other + pg_Townhouse + neighborhood - 1\n"
     ]
    }
   ],
   "source": [
    "f = 'log_price ~ ' + ' + '.join(variable_names) + ' + neighborhood - 1'\n",
    "print(f)"
   ]
  },
  {
   "cell_type": "markdown",
   "metadata": {},
   "source": [
    "The `~` operator in the above statement is usually read as \"log price is a function of …\", to account for the fact that many different model specifications can be fit according to that functional relationship between log_price and our explamatory variable list. Critically, note that the trailing -1 term means that we are fitting this model without an intercept term. This is necessary, since including an intercept term alongside unique means for every neighborhood would make the underlying system of equations underspecified. Now we can estimate the unique effects of each neighbourhood:"
   ]
  },
  {
   "cell_type": "code",
   "execution_count": 28,
   "metadata": {},
   "outputs": [
    {
     "name": "stdout",
     "output_type": "stream",
     "text": [
      "                           Results: Ordinary least squares\n",
      "======================================================================================\n",
      "Model:                      OLS                    Adj. R-squared:           0.709    \n",
      "Dependent Variable:         log_price              AIC:                      7210.0765\n",
      "Date:                       2021-07-21 21:13       BIC:                      7579.3867\n",
      "No. Observations:           6092                   Log-Likelihood:           -3550.0  \n",
      "Df Model:                   54                     F-statistic:              276.1    \n",
      "Df Residuals:               6037                   Prob (F-statistic):       0.00     \n",
      "R-squared:                  0.712                  Scale:                    0.18951  \n",
      "--------------------------------------------------------------------------------------\n",
      "                                       Coef.  Std.Err.    t     P>|t|   [0.025  0.975]\n",
      "--------------------------------------------------------------------------------------\n",
      "neighborhood[Balboa Park]              4.2800   0.0333 128.5313 0.0000  4.2147  4.3453\n",
      "neighborhood[Bay Ho]                   4.1973   0.0769  54.5875 0.0000  4.0466  4.3481\n",
      "neighborhood[Bay Park]                 4.3282   0.0510  84.8678 0.0000  4.2282  4.4281\n",
      "neighborhood[Carmel Valley]            4.3880   0.0566  77.5756 0.0000  4.2772  4.4989\n",
      "neighborhood[City Heights West]        4.0529   0.0584  69.4139 0.0000  3.9385  4.1674\n",
      "neighborhood[Clairemont Mesa]          4.0945   0.0477  85.8172 0.0000  4.0009  4.1880\n",
      "neighborhood[College Area]             4.0331   0.0583  69.2172 0.0000  3.9189  4.1474\n",
      "neighborhood[Core]                     4.7255   0.0527  89.7472 0.0000  4.6223  4.8287\n",
      "neighborhood[Cortez Hill]              4.6077   0.0515  89.4055 0.0000  4.5067  4.7088\n",
      "neighborhood[Del Mar Heights]          4.4954   0.0543  82.7154 0.0000  4.3888  4.6019\n",
      "neighborhood[East Village]             4.5459   0.0294 154.5728 0.0000  4.4882  4.6036\n",
      "neighborhood[Gaslamp Quarter]          4.7755   0.0473 100.9263 0.0000  4.6827  4.8682\n",
      "neighborhood[Grant Hill]               4.3062   0.0524  82.2197 0.0000  4.2035  4.4089\n",
      "neighborhood[Grantville]               4.0529   0.0714  56.7574 0.0000  3.9129  4.1929\n",
      "neighborhood[Kensington]               4.3014   0.0772  55.7257 0.0000  4.1501  4.4527\n",
      "neighborhood[La Jolla]                 4.6805   0.0258 181.2596 0.0000  4.6299  4.7311\n",
      "neighborhood[La Jolla Village]         4.3294   0.0772  56.0453 0.0000  4.1780  4.4809\n",
      "neighborhood[Linda Vista]              4.1903   0.0569  73.6093 0.0000  4.0787  4.3019\n",
      "neighborhood[Little Italy]             4.6661   0.0468  99.6052 0.0000  4.5742  4.7579\n",
      "neighborhood[Loma Portal]              4.3009   0.0332 129.3700 0.0000  4.2357  4.3661\n",
      "neighborhood[Marina]                   4.5592   0.0480  94.9396 0.0000  4.4650  4.6533\n",
      "neighborhood[Midtown]                  4.3660   0.0284 153.7221 0.0000  4.3103  4.4217\n",
      "neighborhood[Midtown District]         4.5835   0.0651  70.4037 0.0000  4.4559  4.7111\n",
      "neighborhood[Mira Mesa]                3.9887   0.0561  71.0829 0.0000  3.8787  4.0987\n",
      "neighborhood[Mission Bay]              4.5144   0.0224 201.2579 0.0000  4.4704  4.5584\n",
      "neighborhood[Mission Valley]           4.2753   0.0742  57.5857 0.0000  4.1297  4.4208\n",
      "neighborhood[Moreno Mission]           4.4005   0.0567  77.5562 0.0000  4.2892  4.5117\n",
      "neighborhood[Normal Heights]           4.0968   0.0490  83.5535 0.0000  4.0007  4.1929\n",
      "neighborhood[North Clairemont]         3.9836   0.0692  57.5973 0.0000  3.8480  4.1192\n",
      "neighborhood[North Hills]              4.2527   0.0255 166.8623 0.0000  4.2027  4.3026\n",
      "neighborhood[Northwest]                4.1730   0.0697  59.8365 0.0000  4.0363  4.3097\n",
      "neighborhood[Ocean Beach]              4.4362   0.0301 147.3930 0.0000  4.3772  4.4952\n",
      "neighborhood[Old Town]                 4.4193   0.0419 105.4684 0.0000  4.3372  4.5015\n",
      "neighborhood[Otay Ranch]               4.1175   0.1142  36.0614 0.0000  3.8937  4.3413\n",
      "neighborhood[Pacific Beach]            4.4381   0.0224 197.9064 0.0000  4.3941  4.4820\n",
      "neighborhood[Park West]                4.4400   0.0448  99.1615 0.0000  4.3522  4.5278\n",
      "neighborhood[Rancho Bernadino]         4.1529   0.0729  56.9636 0.0000  4.0100  4.2958\n",
      "neighborhood[Rancho Penasquitos]       4.1612   0.0618  67.3462 0.0000  4.0401  4.2824\n",
      "neighborhood[Roseville]                4.3855   0.0586  74.7935 0.0000  4.2706  4.5005\n",
      "neighborhood[San Carlos]               4.3337   0.0831  52.1791 0.0000  4.1709  4.4965\n",
      "neighborhood[Scripps Ranch]            4.0812   0.0763  53.5188 0.0000  3.9317  4.2307\n",
      "neighborhood[Serra Mesa]               4.3112   0.0604  71.3930 0.0000  4.1929  4.4296\n",
      "neighborhood[South Park]               4.2243   0.0537  78.7336 0.0000  4.1191  4.3295\n",
      "neighborhood[University City]          4.1935   0.0370 113.4218 0.0000  4.1210  4.2660\n",
      "neighborhood[West University Heights]  4.2969   0.0431  99.5994 0.0000  4.2123  4.3814\n",
      "accommodates                           0.0727   0.0048  15.0496 0.0000  0.0633  0.0822\n",
      "bathrooms                              0.1710   0.0105  16.2807 0.0000  0.1504  0.1916\n",
      "bedrooms                               0.1684   0.0106  15.8452 0.0000  0.1475  0.1892\n",
      "beds                                  -0.0417   0.0066  -6.3610 0.0000 -0.0545 -0.0288\n",
      "rt_Private_room                       -0.4881   0.0154 -31.6377 0.0000 -0.5183 -0.4578\n",
      "rt_Shared_room                        -1.2462   0.0371 -33.5765 0.0000 -1.3190 -1.1735\n",
      "pg_Condominium                         0.1339   0.0210   6.3780 0.0000  0.0928  0.1751\n",
      "pg_House                               0.0411   0.0144   2.8611 0.0042  0.0129  0.0693\n",
      "pg_Other                               0.0627   0.0224   2.7993 0.0051  0.0188  0.1066\n",
      "pg_Townhouse                          -0.0061   0.0325  -0.1864 0.8522 -0.0698  0.0577\n",
      "--------------------------------------------------------------------------------------\n",
      "Omnibus:                   1217.758             Durbin-Watson:                1.772   \n",
      "Prob(Omnibus):             0.000                Jarque-Bera (JB):             4152.177\n",
      "Skew:                      0.992                Prob(JB):                     0.000   \n",
      "Kurtosis:                  6.525                Condition No.:                138     \n",
      "======================================================================================\n",
      "\n"
     ]
    }
   ],
   "source": [
    "m3 = sm.ols(f, data=db).fit()\n",
    "print(m3.summary2())"
   ]
  },
  {
   "cell_type": "markdown",
   "metadata": {},
   "source": [
    "Here is the PySAL [`OLS_Regimes`](https://spreg.readthedocs.io/en/latest/generated/spreg.OLS_Regimes.html) implementation of the above technique:"
   ]
  },
  {
   "cell_type": "code",
   "execution_count": 29,
   "metadata": {},
   "outputs": [
    {
     "name": "stderr",
     "output_type": "stream",
     "text": [
      "C:\\Users\\gevor\\anaconda3\\lib\\site-packages\\spreg\\diagnostics.py:585: ComplexWarning: Casting complex values to real discards the imaginary part\n",
      "  ci_result = sqrt(max_eigval / min_eigval)\n"
     ]
    },
    {
     "name": "stdout",
     "output_type": "stream",
     "text": [
      "REGRESSION\n",
      "----------\n",
      "SUMMARY OF OUTPUT: ORDINARY LEAST SQUARES - REGIMES\n",
      "---------------------------------------------------\n",
      "Data set            :     unknown\n",
      "Weights matrix      :        None\n",
      "Dependent Variable  :   log_price                Number of Observations:        6092\n",
      "Mean dependent var  :      4.9976                Number of Variables   :          55\n",
      "S.D. dependent var  :      0.8072                Degrees of Freedom    :        6037\n",
      "R-squared           :      0.7118\n",
      "Adjusted R-squared  :      0.7092\n",
      "Sum squared residual:    1144.050                F-statistic           :    276.0506\n",
      "Sigma-square        :       0.190                Prob(F-statistic)     :           0\n",
      "S.E. of regression  :       0.435                Log likelihood        :   -3550.038\n",
      "Sigma-square ML     :       0.188                Akaike info criterion :    7210.076\n",
      "S.E of regression ML:      0.4334                Schwarz criterion     :    7579.387\n",
      "\n",
      "------------------------------------------------------------------------------------\n",
      "            Variable     Coefficient       Std.Error     t-Statistic     Probability\n",
      "------------------------------------------------------------------------------------\n",
      "Balboa Park_CONSTANT       4.2800134       0.0332994     128.5313098       0.0000000\n",
      "     Bay Ho_CONSTANT       4.1973219       0.0768916      54.5875070       0.0000000\n",
      "   Bay Park_CONSTANT       4.3281627       0.0509989      84.8678177       0.0000000\n",
      "Carmel Valley_CONSTANT       4.3880496       0.0565648      77.5756036       0.0000000\n",
      "City Heights West_CONSTANT       4.0529217       0.0583878      69.4138897       0.0000000\n",
      "Clairemont Mesa_CONSTANT       4.0944620       0.0477114      85.8172214       0.0000000\n",
      "College Area_CONSTANT       4.0331385       0.0582678      69.2172430       0.0000000\n",
      "       Core_CONSTANT       4.7254867       0.0526533      89.7471620       0.0000000\n",
      "Cortez Hill_CONSTANT       4.6077490       0.0515376      89.4055360       0.0000000\n",
      "Del Mar Heights_CONSTANT       4.4953841       0.0543476      82.7154341       0.0000000\n",
      "East Village_CONSTANT       4.5459004       0.0294094     154.5728398       0.0000000\n",
      "Gaslamp Quarter_CONSTANT       4.7754624       0.0473163     100.9262666       0.0000000\n",
      " Grant Hill_CONSTANT       4.3061991       0.0523743      82.2196713       0.0000000\n",
      " Grantville_CONSTANT       4.0528878       0.0714072      56.7573722       0.0000000\n",
      " Kensington_CONSTANT       4.3014166       0.0771891      55.7257132       0.0000000\n",
      "   La Jolla_CONSTANT       4.6804963       0.0258221     181.2596325       0.0000000\n",
      "La Jolla Village_CONSTANT       4.3294239       0.0772487      56.0452823       0.0000000\n",
      "Linda Vista_CONSTANT       4.1903164       0.0569265      73.6093036       0.0000000\n",
      "Little Italy_CONSTANT       4.6660695       0.0468457      99.6051702       0.0000000\n",
      "Loma Portal_CONSTANT       4.3008885       0.0332449     129.3699683       0.0000000\n",
      "     Marina_CONSTANT       4.5591543       0.0480216      94.9396462       0.0000000\n",
      "    Midtown_CONSTANT       4.3659903       0.0284018     153.7221067       0.0000000\n",
      "Midtown District_CONSTANT       4.5835089       0.0651033      70.4036875       0.0000000\n",
      "  Mira Mesa_CONSTANT       3.9887128       0.0561135      71.0828963       0.0000000\n",
      "Mission Bay_CONSTANT       4.5143899       0.0224309     201.2579333       0.0000000\n",
      "Mission Valley_CONSTANT       4.2752736       0.0742419      57.5857379       0.0000000\n",
      "Moreno Mission_CONSTANT       4.4004626       0.0567390      77.5561566       0.0000000\n",
      "Normal Heights_CONSTANT       4.0967783       0.0490318      83.5535155       0.0000000\n",
      "North Clairemont_CONSTANT       3.9836278       0.0691635      57.5972929       0.0000000\n",
      "North Hills_CONSTANT       4.2526582       0.0254860     166.8623338       0.0000000\n",
      "  Northwest_CONSTANT       4.1730138       0.0697402      59.8365246       0.0000000\n",
      "Ocean Beach_CONSTANT       4.4361883       0.0300977     147.3930471       0.0000000\n",
      "   Old Town_CONSTANT       4.4193330       0.0419020     105.4683628       0.0000000\n",
      " Otay Ranch_CONSTANT       4.1174953       0.1141802      36.0613719       0.0000000\n",
      "Pacific Beach_CONSTANT       4.4380650       0.0224251     197.9063879       0.0000000\n",
      "  Park West_CONSTANT       4.4400110       0.0447756      99.1614704       0.0000000\n",
      "Rancho Bernadino_CONSTANT       4.1529097       0.0729046      56.9636092       0.0000000\n",
      "Rancho Penasquitos_CONSTANT       4.1612404       0.0617888      67.3462354       0.0000000\n",
      "  Roseville_CONSTANT       4.3855196       0.0586350      74.7935326       0.0000000\n",
      " San Carlos_CONSTANT       4.3337299       0.0830549      52.1790793       0.0000000\n",
      "Scripps Ranch_CONSTANT       4.0812183       0.0762576      53.5188474       0.0000000\n",
      " Serra Mesa_CONSTANT       4.3112452       0.0603875      71.3930177       0.0000000\n",
      " South Park_CONSTANT       4.2242882       0.0536530      78.7335502       0.0000000\n",
      "University City_CONSTANT       4.1934916       0.0369725     113.4218485       0.0000000\n",
      "West University Heights_CONSTANT       4.2968631       0.0431415      99.5994037       0.0000000\n",
      "_Global_accommodates       0.0727496       0.0048340      15.0496338       0.0000000\n",
      "   _Global_bathrooms       0.1710014       0.0105033      16.2806854       0.0000000\n",
      "    _Global_bedrooms       0.1683631       0.0106255      15.8451717       0.0000000\n",
      "        _Global_beds      -0.0416706       0.0065510      -6.3609612       0.0000000\n",
      "_Global_rt_Private_room      -0.4880530       0.0154263     -31.6376862       0.0000000\n",
      "_Global_rt_Shared_room      -1.2462108       0.0371156     -33.5765070       0.0000000\n",
      "_Global_pg_Condominium       0.1339197       0.0209971       6.3780201       0.0000000\n",
      "    _Global_pg_House       0.0411327       0.0143767       2.8610587       0.0042368\n",
      "    _Global_pg_Other       0.0627021       0.0223993       2.7992856       0.0051378\n",
      "_Global_pg_Townhouse      -0.0060634       0.0325322      -0.1863805       0.8521526\n",
      "------------------------------------------------------------------------------------\n",
      "Regimes variable: unknown\n",
      "\n",
      "REGRESSION DIAGNOSTICS\n",
      "MULTICOLLINEARITY CONDITION NUMBER           12.144\n",
      "\n",
      "TEST ON NORMALITY OF ERRORS\n",
      "TEST                             DF        VALUE           PROB\n",
      "Jarque-Bera                       2        4152.177           0.0000\n",
      "\n",
      "DIAGNOSTICS FOR HETEROSKEDASTICITY\n",
      "RANDOM COEFFICIENTS\n",
      "TEST                             DF        VALUE           PROB\n",
      "Breusch-Pagan test               54         845.916           0.0000\n",
      "Koenker-Bassett test             54         306.218           0.0000\n",
      "\n",
      "REGIMES DIAGNOSTICS - CHOW TEST\n",
      "                 VARIABLE        DF        VALUE           PROB\n",
      "                 CONSTANT        44         914.031           0.0000\n",
      "              Global test        44         914.031           0.0000\n",
      "================================ END OF REPORT =====================================\n"
     ]
    }
   ],
   "source": [
    "# PySAL implementation\n",
    "m4 = spreg.OLS_Regimes(\n",
    "    db[['log_price']].values, \n",
    "    db[variable_names].values,\n",
    "    db['neighborhood'].tolist(),\n",
    "    constant_regi='many',\n",
    "    cols2regi=[False]*len(variable_names),\n",
    "    regime_err_sep=False,\n",
    "    name_y='log_price', \n",
    "    name_x=variable_names\n",
    ")\n",
    "print(m4.summary)"
   ]
  },
  {
   "cell_type": "markdown",
   "metadata": {},
   "source": [
    "What the neighborhood fixed effects we have introduced imply is that, instead of comparing all Airbnb listing prices across San Diego as equal, we only model variation from within each neighbourhood. Remember that the interpretation of $\\beta_{k}$ is the effect of variable $k$, given all the other explanatory variables included remain **_constant_**. By including a single variable for each area, we are effectively forcing the model to consider the group of Airbnb listing prices located within the same area. This allows a better control of unobserved effects since we consider those spatially aligned with e fixed effects we introduced."
   ]
  },
  {
   "cell_type": "markdown",
   "metadata": {},
   "source": [
    "To make a map of neighborhood fixed effects, we need to process the results from our model slightly.\n",
    "First, we extract only the effects corresponding to the neighborhoods:"
   ]
  },
  {
   "cell_type": "code",
   "execution_count": 30,
   "metadata": {},
   "outputs": [
    {
     "data": {
      "text/plain": [
       "neighborhood[Balboa Park]          4.280013\n",
       "neighborhood[Bay Ho]               4.197322\n",
       "neighborhood[Bay Park]             4.328163\n",
       "neighborhood[Carmel Valley]        4.388050\n",
       "neighborhood[City Heights West]    4.052922\n",
       "dtype: float64"
      ]
     },
     "execution_count": 30,
     "metadata": {},
     "output_type": "execute_result"
    }
   ],
   "source": [
    "neighborhood_effects = m3.params.filter(like='neighborhood')\n",
    "neighborhood_effects.head()"
   ]
  },
  {
   "cell_type": "markdown",
   "metadata": {},
   "source": [
    "Next, we need to extract only the neighborhood name from the index of this Series. A simple way to do this is to strip all the characters that come before and after our neighborhood names:"
   ]
  },
  {
   "cell_type": "code",
   "execution_count": 31,
   "metadata": {},
   "outputs": [
    {
     "data": {
      "text/html": [
       "<div>\n",
       "<style scoped>\n",
       "    .dataframe tbody tr th:only-of-type {\n",
       "        vertical-align: middle;\n",
       "    }\n",
       "\n",
       "    .dataframe tbody tr th {\n",
       "        vertical-align: top;\n",
       "    }\n",
       "\n",
       "    .dataframe thead th {\n",
       "        text-align: right;\n",
       "    }\n",
       "</style>\n",
       "<table border=\"1\" class=\"dataframe\">\n",
       "  <thead>\n",
       "    <tr style=\"text-align: right;\">\n",
       "      <th></th>\n",
       "      <th>fixed_effect</th>\n",
       "    </tr>\n",
       "  </thead>\n",
       "  <tbody>\n",
       "    <tr>\n",
       "      <th>Balboa Park</th>\n",
       "      <td>4.280013</td>\n",
       "    </tr>\n",
       "    <tr>\n",
       "      <th>Bay Ho</th>\n",
       "      <td>4.197322</td>\n",
       "    </tr>\n",
       "    <tr>\n",
       "      <th>Bay Park</th>\n",
       "      <td>4.328163</td>\n",
       "    </tr>\n",
       "    <tr>\n",
       "      <th>Carmel Valley</th>\n",
       "      <td>4.388050</td>\n",
       "    </tr>\n",
       "    <tr>\n",
       "      <th>City Heights West</th>\n",
       "      <td>4.052922</td>\n",
       "    </tr>\n",
       "  </tbody>\n",
       "</table>\n",
       "</div>"
      ],
      "text/plain": [
       "                   fixed_effect\n",
       "Balboa Park            4.280013\n",
       "Bay Ho                 4.197322\n",
       "Bay Park               4.328163\n",
       "Carmel Valley          4.388050\n",
       "City Heights West      4.052922"
      ]
     },
     "execution_count": 31,
     "metadata": {},
     "output_type": "execute_result"
    }
   ],
   "source": [
    "stripped = neighborhood_effects.index.str.strip('neighborhood[').str.strip(']')\n",
    "neighborhood_effects.index = stripped\n",
    "neighborhood_effects = neighborhood_effects.to_frame('fixed_effect')\n",
    "neighborhood_effects.head()"
   ]
  },
  {
   "cell_type": "markdown",
   "metadata": {},
   "source": [
    "Now we have to join this dataframe with the neighbourhood geometry:"
   ]
  },
  {
   "cell_type": "code",
   "execution_count": 32,
   "metadata": {},
   "outputs": [
    {
     "data": {
      "text/html": [
       "<div>\n",
       "<style scoped>\n",
       "    .dataframe tbody tr th:only-of-type {\n",
       "        vertical-align: middle;\n",
       "    }\n",
       "\n",
       "    .dataframe tbody tr th {\n",
       "        vertical-align: top;\n",
       "    }\n",
       "\n",
       "    .dataframe thead th {\n",
       "        text-align: right;\n",
       "    }\n",
       "</style>\n",
       "<table border=\"1\" class=\"dataframe\">\n",
       "  <thead>\n",
       "    <tr style=\"text-align: right;\">\n",
       "      <th></th>\n",
       "      <th>neighbourhood</th>\n",
       "      <th>neighbourhood_group</th>\n",
       "      <th>geometry</th>\n",
       "    </tr>\n",
       "  </thead>\n",
       "  <tbody>\n",
       "    <tr>\n",
       "      <th>0</th>\n",
       "      <td>Amphitheater And Water Park</td>\n",
       "      <td>None</td>\n",
       "      <td>MULTIPOLYGON (((-117.01452 32.58790, -117.0144...</td>\n",
       "    </tr>\n",
       "    <tr>\n",
       "      <th>1</th>\n",
       "      <td>Bella Lago</td>\n",
       "      <td>None</td>\n",
       "      <td>MULTIPOLYGON (((-116.94128 32.68431, -116.9412...</td>\n",
       "    </tr>\n",
       "    <tr>\n",
       "      <th>2</th>\n",
       "      <td>Bonita Long Canyon</td>\n",
       "      <td>None</td>\n",
       "      <td>MULTIPOLYGON (((-117.01149 32.66352, -117.0114...</td>\n",
       "    </tr>\n",
       "    <tr>\n",
       "      <th>3</th>\n",
       "      <td>East Lake</td>\n",
       "      <td>None</td>\n",
       "      <td>MULTIPOLYGON (((-116.99302 32.66040, -116.9816...</td>\n",
       "    </tr>\n",
       "    <tr>\n",
       "      <th>4</th>\n",
       "      <td>Eastlake Trails</td>\n",
       "      <td>None</td>\n",
       "      <td>MULTIPOLYGON (((-116.95512 32.64124, -116.9550...</td>\n",
       "    </tr>\n",
       "  </tbody>\n",
       "</table>\n",
       "</div>"
      ],
      "text/plain": [
       "                 neighbourhood neighbourhood_group  \\\n",
       "0  Amphitheater And Water Park                None   \n",
       "1                   Bella Lago                None   \n",
       "2           Bonita Long Canyon                None   \n",
       "3                    East Lake                None   \n",
       "4              Eastlake Trails                None   \n",
       "\n",
       "                                            geometry  \n",
       "0  MULTIPOLYGON (((-117.01452 32.58790, -117.0144...  \n",
       "1  MULTIPOLYGON (((-116.94128 32.68431, -116.9412...  \n",
       "2  MULTIPOLYGON (((-117.01149 32.66352, -117.0114...  \n",
       "3  MULTIPOLYGON (((-116.99302 32.66040, -116.9816...  \n",
       "4  MULTIPOLYGON (((-116.95512 32.64124, -116.9550...  "
      ]
     },
     "execution_count": 32,
     "metadata": {},
     "output_type": "execute_result"
    }
   ],
   "source": [
    "neighborhoods = gpd.read_file('../data/neighbourhoods_san_diego.geojson')\n",
    "neighborhoods.head()"
   ]
  },
  {
   "cell_type": "code",
   "execution_count": 33,
   "metadata": {},
   "outputs": [
    {
     "data": {
      "image/png": "[encoded data removed]",
      "text/plain": [
       "<Figure size 864x432 with 1 Axes>"
      ]
     },
     "metadata": {
      "needs_background": "light"
     },
     "output_type": "display_data"
    }
   ],
   "source": [
    "ax = neighborhoods.plot(\n",
    "    color='k', alpha=0.5, figsize=(12,6)\n",
    ")\n",
    "neighborhoods.merge(\n",
    "    neighborhood_effects, \n",
    "    how='left',\n",
    "    left_on='neighbourhood', \n",
    "    right_index=True).dropna(subset=['fixed_effect']).plot('fixed_effect', ax=ax)\n",
    "\n",
    "ax.set_title(\"San Diego Neighborhood Fixed Effects\")\n",
    "plt.show()"
   ]
  },
  {
   "cell_type": "markdown",
   "metadata": {},
   "source": [
    "### Spatial Regimes"
   ]
  },
  {
   "cell_type": "markdown",
   "metadata": {},
   "source": [
    "The main idea of estimating spatial fixed effects is that, instead of assuming the dependent variable behaves uniformly over space, there are systematic effects following a geographical pattern that affect its behavior. In other words, spatial fixed effects have _spatial heterogeneity_. This is modelled in the simplest possible form: by allowing the constant term to vary geographically. The other elements of the regression apply uniformly across space. The idea of spatial regimes (SRs) is to generalize the spatial fixed effect approach to allow not only the constant term to vary but also any other explanatory variable. Our regression model in this setting then becomes:\n",
    "\n",
    "$$\n",
    "\\log P_{i}=\\alpha_{r}+\\sum_{k} \\mathbf{X}_{k i} \\beta_{k-r}+\\epsilon_{i}\n",
    "$$\n",
    "\n",
    "where we are not only allowing the constant term to vary by region ($\\alpha_{r}$), but also every other parameter ($\\beta_{k-r}$)."
   ]
  },
  {
   "cell_type": "markdown",
   "metadata": {},
   "source": [
    "To show this, we will use the `coastal_neigh` variable denoting whether a house is in a coastal neighborhood or not to define the spatial regimes. The reasoning behind this is that renting an Airbnb close to the ocean might be a strong enough motivation that people might be willing to pay different rates for each of the Airbnb listing's characteristics."
   ]
  },
  {
   "cell_type": "code",
   "execution_count": 34,
   "metadata": {},
   "outputs": [
    {
     "name": "stdout",
     "output_type": "stream",
     "text": [
      "REGRESSION\n",
      "----------\n",
      "SUMMARY OF OUTPUT: ORDINARY LEAST SQUARES - REGIMES\n",
      "---------------------------------------------------\n",
      "Data set            :     unknown\n",
      "Weights matrix      :        None\n",
      "Dependent Variable  :   log_price                Number of Observations:        6092\n",
      "Mean dependent var  :      4.9976                Number of Variables   :          22\n",
      "S.D. dependent var  :      0.8072                Degrees of Freedom    :        6070\n",
      "R-squared           :      0.6851\n",
      "Adjusted R-squared  :      0.6840\n",
      "Sum squared residual:    1249.913                F-statistic           :    628.7941\n",
      "Sigma-square        :       0.206                Prob(F-statistic)     :           0\n",
      "S.E. of regression  :       0.454                Log likelihood        :   -3819.605\n",
      "Sigma-square ML     :       0.205                Akaike info criterion :    7683.211\n",
      "S.E of regression ML:      0.4530                Schwarz criterion     :    7830.935\n",
      "\n",
      "------------------------------------------------------------------------------------\n",
      "            Variable     Coefficient       Std.Error     t-Statistic     Probability\n",
      "------------------------------------------------------------------------------------\n",
      "          0_CONSTANT       4.4063583       0.0215364     204.6000796       0.0000000\n",
      "      0_accommodates       0.0901837       0.0064823      13.9122780       0.0000000\n",
      "         0_bathrooms       0.1442692       0.0142878      10.0973498       0.0000000\n",
      "          0_bedrooms       0.1127391       0.0138436       8.1437952       0.0000000\n",
      "              0_beds      -0.0263267       0.0088479      -2.9754860       0.0029368\n",
      "   0_rt_Private_room      -0.5301181       0.0189562     -27.9653938       0.0000000\n",
      "    0_rt_Shared_room      -1.2314281       0.0430164     -28.6269719       0.0000000\n",
      "    0_pg_Condominium       0.1056881       0.0281503       3.7544182       0.0001754\n",
      "          0_pg_House      -0.0448114       0.0180049      -2.4888486       0.0128423\n",
      "          0_pg_Other       0.0628094       0.0277188       2.2659490       0.0234896\n",
      "      0_pg_Townhouse      -0.0093641       0.0460854      -0.2031893       0.8389939\n",
      "          1_CONSTANT       4.4799043       0.0251052     178.4455405       0.0000000\n",
      "      1_accommodates       0.0484639       0.0078842       6.1469680       0.0000000\n",
      "         1_bathrooms       0.2474779       0.0165736      14.9320729       0.0000000\n",
      "          1_bedrooms       0.1897404       0.0179310      10.5816963       0.0000000\n",
      "              1_beds      -0.0506077       0.0107478      -4.7086694       0.0000025\n",
      "   1_rt_Private_room      -0.5586281       0.0283250     -19.7220773       0.0000000\n",
      "    1_rt_Shared_room      -1.0528541       0.0842124     -12.5023624       0.0000000\n",
      "    1_pg_Condominium       0.2044470       0.0339587       6.0204633       0.0000000\n",
      "          1_pg_House       0.0753534       0.0233888       3.2217661       0.0012808\n",
      "          1_pg_Other       0.2954848       0.0386629       7.6425924       0.0000000\n",
      "      1_pg_Townhouse      -0.0735077       0.0493894      -1.4883274       0.1367165\n",
      "------------------------------------------------------------------------------------\n",
      "Regimes variable: unknown\n",
      "\n",
      "REGRESSION DIAGNOSTICS\n",
      "MULTICOLLINEARITY CONDITION NUMBER           14.033\n",
      "\n",
      "TEST ON NORMALITY OF ERRORS\n",
      "TEST                             DF        VALUE           PROB\n",
      "Jarque-Bera                       2        3973.184           0.0000\n",
      "\n",
      "DIAGNOSTICS FOR HETEROSKEDASTICITY\n",
      "RANDOM COEFFICIENTS\n",
      "TEST                             DF        VALUE           PROB\n",
      "Breusch-Pagan test               21         442.916           0.0000\n",
      "Koenker-Bassett test             21         163.903           0.0000\n",
      "\n",
      "REGIMES DIAGNOSTICS - CHOW TEST\n",
      "                 VARIABLE        DF        VALUE           PROB\n",
      "                 CONSTANT         1           4.944           0.0262\n",
      "             accommodates         1          16.707           0.0000\n",
      "                bathrooms         1          22.246           0.0000\n",
      "                 bedrooms         1          11.554           0.0007\n",
      "                     beds         1           3.042           0.0811\n",
      "           pg_Condominium         1           5.013           0.0252\n",
      "                 pg_House         1          16.574           0.0000\n",
      "                 pg_Other         1          23.921           0.0000\n",
      "             pg_Townhouse         1           0.902           0.3423\n",
      "          rt_Private_room         1           0.700           0.4029\n",
      "           rt_Shared_room         1           3.566           0.0590\n",
      "              Global test        11         327.087           0.0000\n",
      "================================ END OF REPORT =====================================\n"
     ]
    }
   ],
   "source": [
    "m4 = spreg.OLS_Regimes(\n",
    "    db[['log_price']].values, \n",
    "    db[variable_names].values,\n",
    "    db['coastal'].tolist(),\n",
    "    constant_regi='many',\n",
    "    regime_err_sep=False,\n",
    "    name_y='log_price', \n",
    "    name_x=variable_names\n",
    ")\n",
    "print(m4.summary)"
   ]
  },
  {
   "cell_type": "markdown",
   "metadata": {},
   "source": [
    "### Spatial dependence"
   ]
  },
  {
   "cell_type": "markdown",
   "metadata": {},
   "source": [
    "Spatial heterogeneity, SH, is about modelling phenomena that are explicitly linked to geography and that hence cause spatial variation and clustering. This includes many of the kinds of spatial effects we may be interested in when we fit linear regressions. However, in other cases, our focus is on the effect of the spatial configuration of the observations or their mutual spatial relationships, and the extent to which that has an effect on the outcome we are considering. In this setting, we will be interested in capturing not only the characteristics of an Airbnb listing, but also of its surrounding ones.\n",
    "\n",
    "This kind of spatial effect is fundamentally different from spatial heterogeneity in that it is not directly related to inherent characteristics of the geography but relates to the characteristics of the observations in our dataset and, specially, to their spatial arrangement. This spatial effect, in which the values of observations are related to each other through their mutual spatial arrangement and distance, is called **_spatial dependence_**.\n",
    "\n",
    "Spatial dependence is typically incorporated into regression models via **_spatial weight matrices (W)_**."
   ]
  },
  {
   "cell_type": "markdown",
   "metadata": {},
   "source": [
    "### Exogenous effects: The SLX Model"
   ]
  },
  {
   "cell_type": "markdown",
   "metadata": {},
   "source": [
    "Let us return to the Airbnb listing price example we have been working with. So far, we have hypothesized that the price of an Airbnb listing rented in San Diego through AirBnB can be explained using information about its own characteristics as well as some relating to its location such as the neighborhood or the distance to the main park in the city. However, it is also reasonable to think that potential renters care about the larger area around a location, and not only about the Airbnb listing itself, and would be willing to pay more for an Airbnb listing that was surrounded by certain types of other Airbnb listings, and less if it was located in the middle of other types. \n",
    "\n",
    "The simplest way to introduce **_spatial dependence_** in a regression is by considering not only a given explanatory variable, but also its spatial lag. In our example, in addition to including a dummy for the type of Airbnb listing (`pg_XXX`), we can also include the spatial lag of each type of Airbnb listing. This addition implies we are also including as explanatory factor of the price of a given Airbnb listing the proportion of the neighboring listings in each type. This implies estimating the following regression model:\n",
    "\n",
    "$$\n",
    "\\log \\left(P_{i}\\right)=\\alpha+\\sum_{k=1}^{p} X_{i j} \\beta_{j}+\\sum_{k=1}^{p}\\left(\\sum_{j=1}^{N} w_{i j} x_{j k}\\right) \\gamma_{k}+\\epsilon_{i}\n",
    "$$\n",
    "\n",
    "where $\\sum_{j=1}^{N} w_{i j} x_{j k}$ is the spatial lag of the $k$th explanatory variable. In matrix form, the above equation becomes $\\log \\left(P_{i}\\right)=\\alpha+\\mathbf{X} \\beta+\\mathbf{W} \\mathbf{X} \\gamma+\\epsilon$.\n",
    "\n",
    "As we see, the model is made of two main effects, $\\beta$ and $\\gamma$. As we know, $\\beta$ shows the percentage change in the listing prices resulting from a unit change in the explanatory variables. $\\gamma$, on the other hand, can be interpreted in two ways. First, one could think of $\\gamma$ as simply **the effect of a unit change in your average surroundings**.\n",
    "\n",
    "This is useful and simple. But, this interpretation ignores where this change might occur. In truth, a change in a variable at site $i$ will result in a spillover to its surroundings: when $x_i$ changes, so too does the spatial lag of any site near $i$. The precise size of this will depend on the structure of $\\mathbf{W}$, and can be different for every site.\n",
    "\n",
    "Thus, to discover the exact indirect effect of a change in $y$ caused by the change at a specific site $x_i$ we would need to compute the change in the spatial lag, and then use that as our change in $X$.\n",
    "\n",
    "In Python, we can calculate the spatial lag of each variable whose name starts by `pg_` by first creating a list of all of those names, and then applying PySAL's `lag_spatial` method to each of them:"
   ]
  },
  {
   "cell_type": "code",
   "execution_count": 35,
   "metadata": {},
   "outputs": [],
   "source": [
    "wx = db.filter(\n",
    "    like='pg'\n",
    ").apply(\n",
    "    lambda y: weights.spatial_lag.lag_spatial(knn, y)\n",
    ").rename(\n",
    "    columns=lambda c: 'w_'+c\n",
    ").drop(\n",
    "    'w_pg_Apartment', axis=1\n",
    ")"
   ]
  },
  {
   "cell_type": "code",
   "execution_count": 36,
   "metadata": {},
   "outputs": [
    {
     "data": {
      "text/html": [
       "<div>\n",
       "<style scoped>\n",
       "    .dataframe tbody tr th:only-of-type {\n",
       "        vertical-align: middle;\n",
       "    }\n",
       "\n",
       "    .dataframe tbody tr th {\n",
       "        vertical-align: top;\n",
       "    }\n",
       "\n",
       "    .dataframe thead th {\n",
       "        text-align: right;\n",
       "    }\n",
       "</style>\n",
       "<table border=\"1\" class=\"dataframe\">\n",
       "  <thead>\n",
       "    <tr style=\"text-align: right;\">\n",
       "      <th></th>\n",
       "      <th>w_pg_Condominium</th>\n",
       "      <th>w_pg_House</th>\n",
       "      <th>w_pg_Other</th>\n",
       "      <th>w_pg_Townhouse</th>\n",
       "    </tr>\n",
       "  </thead>\n",
       "  <tbody>\n",
       "    <tr>\n",
       "      <th>0</th>\n",
       "      <td>0.00</td>\n",
       "      <td>0.45</td>\n",
       "      <td>0.2</td>\n",
       "      <td>0.00</td>\n",
       "    </tr>\n",
       "    <tr>\n",
       "      <th>1</th>\n",
       "      <td>0.05</td>\n",
       "      <td>0.30</td>\n",
       "      <td>0.0</td>\n",
       "      <td>0.05</td>\n",
       "    </tr>\n",
       "    <tr>\n",
       "      <th>2</th>\n",
       "      <td>0.00</td>\n",
       "      <td>0.95</td>\n",
       "      <td>0.0</td>\n",
       "      <td>0.00</td>\n",
       "    </tr>\n",
       "    <tr>\n",
       "      <th>3</th>\n",
       "      <td>0.05</td>\n",
       "      <td>0.30</td>\n",
       "      <td>0.1</td>\n",
       "      <td>0.10</td>\n",
       "    </tr>\n",
       "    <tr>\n",
       "      <th>4</th>\n",
       "      <td>0.05</td>\n",
       "      <td>0.25</td>\n",
       "      <td>0.1</td>\n",
       "      <td>0.05</td>\n",
       "    </tr>\n",
       "    <tr>\n",
       "      <th>...</th>\n",
       "      <td>...</td>\n",
       "      <td>...</td>\n",
       "      <td>...</td>\n",
       "      <td>...</td>\n",
       "    </tr>\n",
       "    <tr>\n",
       "      <th>6087</th>\n",
       "      <td>0.05</td>\n",
       "      <td>0.75</td>\n",
       "      <td>0.0</td>\n",
       "      <td>0.15</td>\n",
       "    </tr>\n",
       "    <tr>\n",
       "      <th>6088</th>\n",
       "      <td>0.05</td>\n",
       "      <td>0.80</td>\n",
       "      <td>0.0</td>\n",
       "      <td>0.10</td>\n",
       "    </tr>\n",
       "    <tr>\n",
       "      <th>6089</th>\n",
       "      <td>0.05</td>\n",
       "      <td>0.75</td>\n",
       "      <td>0.0</td>\n",
       "      <td>0.15</td>\n",
       "    </tr>\n",
       "    <tr>\n",
       "      <th>6090</th>\n",
       "      <td>0.05</td>\n",
       "      <td>0.80</td>\n",
       "      <td>0.0</td>\n",
       "      <td>0.10</td>\n",
       "    </tr>\n",
       "    <tr>\n",
       "      <th>6091</th>\n",
       "      <td>0.05</td>\n",
       "      <td>0.80</td>\n",
       "      <td>0.0</td>\n",
       "      <td>0.10</td>\n",
       "    </tr>\n",
       "  </tbody>\n",
       "</table>\n",
       "<p>6092 rows × 4 columns</p>\n",
       "</div>"
      ],
      "text/plain": [
       "      w_pg_Condominium  w_pg_House  w_pg_Other  w_pg_Townhouse\n",
       "0                 0.00        0.45         0.2            0.00\n",
       "1                 0.05        0.30         0.0            0.05\n",
       "2                 0.00        0.95         0.0            0.00\n",
       "3                 0.05        0.30         0.1            0.10\n",
       "4                 0.05        0.25         0.1            0.05\n",
       "...                ...         ...         ...             ...\n",
       "6087              0.05        0.75         0.0            0.15\n",
       "6088              0.05        0.80         0.0            0.10\n",
       "6089              0.05        0.75         0.0            0.15\n",
       "6090              0.05        0.80         0.0            0.10\n",
       "6091              0.05        0.80         0.0            0.10\n",
       "\n",
       "[6092 rows x 4 columns]"
      ]
     },
     "execution_count": 36,
     "metadata": {},
     "output_type": "execute_result"
    }
   ],
   "source": [
    "wx"
   ]
  },
  {
   "cell_type": "markdown",
   "metadata": {},
   "source": [
    "Once computed, we can run the model using OLS estimation because, in this context, the spatial lags included do not violate any of the assumptions OLS relies on (they are essentially additional exogenous variables):"
   ]
  },
  {
   "cell_type": "code",
   "execution_count": 37,
   "metadata": {},
   "outputs": [
    {
     "name": "stdout",
     "output_type": "stream",
     "text": [
      "REGRESSION\n",
      "----------\n",
      "SUMMARY OF OUTPUT: ORDINARY LEAST SQUARES\n",
      "-----------------------------------------\n",
      "Data set            :     unknown\n",
      "Weights matrix      :        None\n",
      "Dependent Variable  :     l_price                Number of Observations:        6092\n",
      "Mean dependent var  :      4.9976                Number of Variables   :          15\n",
      "S.D. dependent var  :      0.8072                Degrees of Freedom    :        6077\n",
      "R-squared           :      0.6797\n",
      "Adjusted R-squared  :      0.6790\n",
      "Sum squared residual:    1271.098                F-statistic           :    921.3062\n",
      "Sigma-square        :       0.209                Prob(F-statistic)     :           0\n",
      "S.E. of regression  :       0.457                Log likelihood        :   -3870.800\n",
      "Sigma-square ML     :       0.209                Akaike info criterion :    7771.601\n",
      "S.E of regression ML:      0.4568                Schwarz criterion     :    7872.322\n",
      "\n",
      "------------------------------------------------------------------------------------\n",
      "            Variable     Coefficient       Std.Error     t-Statistic     Probability\n",
      "------------------------------------------------------------------------------------\n",
      "            CONSTANT       4.3234205       0.0234772     184.1541631       0.0000000\n",
      "        accommodates       0.0809499       0.0050092      16.1601285       0.0000000\n",
      "           bathrooms       0.1900497       0.0108161      17.5709780       0.0000000\n",
      "            bedrooms       0.1633050       0.0109830      14.8689259       0.0000000\n",
      "                beds      -0.0451096       0.0068296      -6.6050508       0.0000000\n",
      "     rt_Private_room      -0.5299051       0.0157560     -33.6320157       0.0000000\n",
      "      rt_Shared_room      -1.2963730       0.0384789     -33.6904884       0.0000000\n",
      "      pg_Condominium       0.1074042       0.0221904       4.8401086       0.0000013\n",
      "            pg_House       0.0343006       0.0157314       2.1803913       0.0292667\n",
      "            pg_Other       0.0875291       0.0240345       3.6418067       0.0002730\n",
      "        pg_Townhouse      -0.0264375       0.0340069      -0.7774147       0.4369444\n",
      "    w_pg_Condominium       0.5824560       0.0689781       8.4440758       0.0000000\n",
      "          w_pg_House      -0.0826852       0.0318465      -2.5963675       0.0094442\n",
      "          w_pg_Other       0.4825926       0.0552179       8.7397916       0.0000000\n",
      "      w_pg_Townhouse      -0.2884821       0.1236199      -2.3336218       0.0196480\n",
      "------------------------------------------------------------------------------------\n",
      "\n",
      "REGRESSION DIAGNOSTICS\n",
      "MULTICOLLINEARITY CONDITION NUMBER           14.258\n",
      "\n",
      "TEST ON NORMALITY OF ERRORS\n",
      "TEST                             DF        VALUE           PROB\n",
      "Jarque-Bera                       2        2456.779           0.0000\n",
      "\n",
      "DIAGNOSTICS FOR HETEROSKEDASTICITY\n",
      "RANDOM COEFFICIENTS\n",
      "TEST                             DF        VALUE           PROB\n",
      "Breusch-Pagan test               14         391.545           0.0000\n",
      "Koenker-Bassett test             14         168.788           0.0000\n",
      "================================ END OF REPORT =====================================\n"
     ]
    }
   ],
   "source": [
    "slx_exog = db[variable_names].join(wx)\n",
    "m5 = spreg.OLS(\n",
    "    db[['log_price']].values, \n",
    "    slx_exog.values,\n",
    "    name_y='l_price', \n",
    "    name_x=slx_exog.columns.tolist()\n",
    ")\n",
    "print(m5.summary)"
   ]
  },
  {
   "cell_type": "markdown",
   "metadata": {},
   "source": [
    "The spatial lag of each type of property (`w_pg_XXX`) is the new addition. We observe that, except for the case of townhouses (same as with the binary variable, pg_Townhouse), they are all significant, suggesting our initial hypothesis on the role of the surrounding Airbnb listings might indeed be at work here.\n",
    "\n",
    "Any given house surrounded by condominiums receives a price premium. So, a unit change (or, a 100% change) in `w_pg_Condominium` would result in a 58.2% increase in the Airbnb listing price.\n",
    "\n",
    "However, to compute the indirect change for a given site $i$, we may need to examine the predicted values for $y_i$. In this example, since we are using a row-standardized weights matrix with 20 nearest neighbors, the impact of changing $x_i$ is the same for all of its neighbors and for any site $i$. Thus, the effect is always $\\gamma/20$, or about 0.0291. However, this would not be the same for many other kinds of weights (like Kernel, Queen, Rook, DistanceBand, or Voronoi), so we will demonstrate how to construct the indirect effect for a specific $i$:"
   ]
  },
  {
   "cell_type": "markdown",
   "metadata": {},
   "source": [
    "Firstly, predicted values for $y_i$ are stored in the `predy` attribute of any model:"
   ]
  },
  {
   "cell_type": "code",
   "execution_count": 38,
   "metadata": {},
   "outputs": [
    {
     "data": {
      "text/plain": [
       "array([[5.43827103],\n",
       "       [4.25355342],\n",
       "       [4.61249384],\n",
       "       ...,\n",
       "       [4.89754676],\n",
       "       [4.17134921],\n",
       "       [4.09039928]])"
      ]
     },
     "execution_count": 38,
     "metadata": {},
     "output_type": "execute_result"
    }
   ],
   "source": [
    "m5.predy"
   ]
  },
  {
   "cell_type": "markdown",
   "metadata": {},
   "source": [
    "Showing this process below, let’s first change a property to be a condominium. Consider the third observation, which is the first apartment in the data:"
   ]
  },
  {
   "cell_type": "code",
   "execution_count": 39,
   "metadata": {},
   "outputs": [
    {
     "data": {
      "text/plain": [
       "accommodates                                                     2\n",
       "bathrooms                                                        1\n",
       "bedrooms                                                         1\n",
       "beds                                                             1\n",
       "neighborhood                                           North Hills\n",
       "pool                                                             0\n",
       "d2balboa                                                   2.64891\n",
       "coastal                                                          0\n",
       "price                                                           99\n",
       "log_price                                                  4.59512\n",
       "id                                                          122458\n",
       "pg_Apartment                                                     1\n",
       "pg_Condominium                                                   0\n",
       "pg_House                                                         0\n",
       "pg_Other                                                         0\n",
       "pg_Townhouse                                                     0\n",
       "rt_Entire_home/apt                                               0\n",
       "rt_Private_room                                                  1\n",
       "rt_Shared_room                                                   0\n",
       "balboa_dist                                                1707.34\n",
       "park_dist                                                  1707.34\n",
       "counts_normalised                                      7.46486e-06\n",
       "geometry              POINT (-117.1422200648906 32.75482759978991)\n",
       "residual                                                  0.287882\n",
       "Name: 5, dtype: object"
      ]
     },
     "execution_count": 39,
     "metadata": {},
     "output_type": "execute_result"
    }
   ],
   "source": [
    "db.loc[5]"
   ]
  },
  {
   "cell_type": "markdown",
   "metadata": {},
   "source": [
    "This is an apartment. Let’s make a copy of our data and change this apartment into a condominium:"
   ]
  },
  {
   "cell_type": "code",
   "execution_count": 40,
   "metadata": {},
   "outputs": [],
   "source": [
    "db_scenario = db.copy()\n",
    "# make Apartment 0 and condo 1\n",
    "db_scenario.loc[5, ['pg_Apartment', 'pg_Condominium']] = [0,1]"
   ]
  },
  {
   "cell_type": "code",
   "execution_count": 41,
   "metadata": {},
   "outputs": [
    {
     "data": {
      "text/plain": [
       "accommodates                                                     2\n",
       "bathrooms                                                        1\n",
       "bedrooms                                                         1\n",
       "beds                                                             1\n",
       "neighborhood                                           North Hills\n",
       "pool                                                             0\n",
       "d2balboa                                                   2.64891\n",
       "coastal                                                          0\n",
       "price                                                           99\n",
       "log_price                                                  4.59512\n",
       "id                                                          122458\n",
       "pg_Apartment                                                     0\n",
       "pg_Condominium                                                   1\n",
       "pg_House                                                         0\n",
       "pg_Other                                                         0\n",
       "pg_Townhouse                                                     0\n",
       "rt_Entire_home/apt                                               0\n",
       "rt_Private_room                                                  1\n",
       "rt_Shared_room                                                   0\n",
       "balboa_dist                                                1707.34\n",
       "park_dist                                                  1707.34\n",
       "counts_normalised                                      7.46486e-06\n",
       "geometry              POINT (-117.1422200648906 32.75482759978991)\n",
       "residual                                                  0.287882\n",
       "Name: 5, dtype: object"
      ]
     },
     "execution_count": 41,
     "metadata": {},
     "output_type": "execute_result"
    }
   ],
   "source": [
    "db_scenario.loc[5]"
   ]
  },
  {
   "cell_type": "markdown",
   "metadata": {},
   "source": [
    "Now, we need to also update the spatial lags:"
   ]
  },
  {
   "cell_type": "code",
   "execution_count": 42,
   "metadata": {},
   "outputs": [],
   "source": [
    "wx_scenario = db_scenario.filter(\n",
    "    like='pg'\n",
    ").apply(\n",
    "    lambda y: weights.spatial_lag.lag_spatial(knn, y)\n",
    ").rename(\n",
    "    columns=lambda c: 'w_'+c\n",
    ").drop(\n",
    "    'w_pg_Apartment', axis=1\n",
    ")"
   ]
  },
  {
   "cell_type": "markdown",
   "metadata": {},
   "source": [
    "And build a new exogenous $\\mathbf{X}$ matrix, including the constant 1 as the leading column:"
   ]
  },
  {
   "cell_type": "code",
   "execution_count": 43,
   "metadata": {},
   "outputs": [
    {
     "data": {
      "text/html": [
       "<div>\n",
       "<style scoped>\n",
       "    .dataframe tbody tr th:only-of-type {\n",
       "        vertical-align: middle;\n",
       "    }\n",
       "\n",
       "    .dataframe tbody tr th {\n",
       "        vertical-align: top;\n",
       "    }\n",
       "\n",
       "    .dataframe thead th {\n",
       "        text-align: right;\n",
       "    }\n",
       "</style>\n",
       "<table border=\"1\" class=\"dataframe\">\n",
       "  <thead>\n",
       "    <tr style=\"text-align: right;\">\n",
       "      <th></th>\n",
       "      <th>accommodates</th>\n",
       "      <th>bathrooms</th>\n",
       "      <th>bedrooms</th>\n",
       "      <th>beds</th>\n",
       "      <th>rt_Private_room</th>\n",
       "      <th>rt_Shared_room</th>\n",
       "      <th>pg_Condominium</th>\n",
       "      <th>pg_House</th>\n",
       "      <th>pg_Other</th>\n",
       "      <th>pg_Townhouse</th>\n",
       "      <th>w_pg_Condominium</th>\n",
       "      <th>w_pg_House</th>\n",
       "      <th>w_pg_Other</th>\n",
       "      <th>w_pg_Townhouse</th>\n",
       "    </tr>\n",
       "  </thead>\n",
       "  <tbody>\n",
       "    <tr>\n",
       "      <th>0</th>\n",
       "      <td>5</td>\n",
       "      <td>2.0</td>\n",
       "      <td>2.0</td>\n",
       "      <td>2.0</td>\n",
       "      <td>0</td>\n",
       "      <td>0</td>\n",
       "      <td>0</td>\n",
       "      <td>1</td>\n",
       "      <td>0</td>\n",
       "      <td>0</td>\n",
       "      <td>0.00</td>\n",
       "      <td>0.45</td>\n",
       "      <td>0.2</td>\n",
       "      <td>0.00</td>\n",
       "    </tr>\n",
       "    <tr>\n",
       "      <th>1</th>\n",
       "      <td>2</td>\n",
       "      <td>1.0</td>\n",
       "      <td>1.0</td>\n",
       "      <td>1.0</td>\n",
       "      <td>1</td>\n",
       "      <td>0</td>\n",
       "      <td>0</td>\n",
       "      <td>0</td>\n",
       "      <td>0</td>\n",
       "      <td>0</td>\n",
       "      <td>0.10</td>\n",
       "      <td>0.30</td>\n",
       "      <td>0.0</td>\n",
       "      <td>0.05</td>\n",
       "    </tr>\n",
       "    <tr>\n",
       "      <th>2</th>\n",
       "      <td>2</td>\n",
       "      <td>0.0</td>\n",
       "      <td>1.0</td>\n",
       "      <td>1.0</td>\n",
       "      <td>0</td>\n",
       "      <td>0</td>\n",
       "      <td>0</td>\n",
       "      <td>0</td>\n",
       "      <td>1</td>\n",
       "      <td>0</td>\n",
       "      <td>0.00</td>\n",
       "      <td>0.95</td>\n",
       "      <td>0.0</td>\n",
       "      <td>0.00</td>\n",
       "    </tr>\n",
       "    <tr>\n",
       "      <th>3</th>\n",
       "      <td>2</td>\n",
       "      <td>1.0</td>\n",
       "      <td>1.0</td>\n",
       "      <td>1.0</td>\n",
       "      <td>1</td>\n",
       "      <td>0</td>\n",
       "      <td>1</td>\n",
       "      <td>0</td>\n",
       "      <td>0</td>\n",
       "      <td>0</td>\n",
       "      <td>0.05</td>\n",
       "      <td>0.30</td>\n",
       "      <td>0.1</td>\n",
       "      <td>0.10</td>\n",
       "    </tr>\n",
       "    <tr>\n",
       "      <th>4</th>\n",
       "      <td>2</td>\n",
       "      <td>1.0</td>\n",
       "      <td>1.0</td>\n",
       "      <td>1.0</td>\n",
       "      <td>1</td>\n",
       "      <td>0</td>\n",
       "      <td>1</td>\n",
       "      <td>0</td>\n",
       "      <td>0</td>\n",
       "      <td>0</td>\n",
       "      <td>0.05</td>\n",
       "      <td>0.25</td>\n",
       "      <td>0.1</td>\n",
       "      <td>0.05</td>\n",
       "    </tr>\n",
       "  </tbody>\n",
       "</table>\n",
       "</div>"
      ],
      "text/plain": [
       "   accommodates  bathrooms  bedrooms  beds  rt_Private_room  rt_Shared_room  \\\n",
       "0             5        2.0       2.0   2.0                0               0   \n",
       "1             2        1.0       1.0   1.0                1               0   \n",
       "2             2        0.0       1.0   1.0                0               0   \n",
       "3             2        1.0       1.0   1.0                1               0   \n",
       "4             2        1.0       1.0   1.0                1               0   \n",
       "\n",
       "   pg_Condominium  pg_House  pg_Other  pg_Townhouse  w_pg_Condominium  \\\n",
       "0               0         1         0             0              0.00   \n",
       "1               0         0         0             0              0.10   \n",
       "2               0         0         1             0              0.00   \n",
       "3               1         0         0             0              0.05   \n",
       "4               1         0         0             0              0.05   \n",
       "\n",
       "   w_pg_House  w_pg_Other  w_pg_Townhouse  \n",
       "0        0.45         0.2            0.00  \n",
       "1        0.30         0.0            0.05  \n",
       "2        0.95         0.0            0.00  \n",
       "3        0.30         0.1            0.10  \n",
       "4        0.25         0.1            0.05  "
      ]
     },
     "execution_count": 43,
     "metadata": {},
     "output_type": "execute_result"
    }
   ],
   "source": [
    "slx_exog_scenario = db_scenario[variable_names].join(wx_scenario)\n",
    "slx_exog_scenario.head()"
   ]
  },
  {
   "cell_type": "markdown",
   "metadata": {},
   "source": [
    "Now, our new prediction (in the scenario where we have changed site 5 from an apartment into a condominium), is:"
   ]
  },
  {
   "cell_type": "code",
   "execution_count": 44,
   "metadata": {},
   "outputs": [],
   "source": [
    "y_pred_scenario = m5.betas[0] + slx_exog_scenario @ m5.betas[1:]"
   ]
  },
  {
   "cell_type": "code",
   "execution_count": 45,
   "metadata": {},
   "outputs": [
    {
     "data": {
      "text/plain": [
       "array([[ 4.32342051],\n",
       "       [ 0.08094993],\n",
       "       [ 0.19004969],\n",
       "       [ 0.16330497],\n",
       "       [-0.04510963],\n",
       "       [-0.52990512],\n",
       "       [-1.29637301],\n",
       "       [ 0.10740416],\n",
       "       [ 0.03430063],\n",
       "       [ 0.08752909],\n",
       "       [-0.02643749],\n",
       "       [ 0.58245597],\n",
       "       [-0.08268522],\n",
       "       [ 0.48259262],\n",
       "       [-0.28848208]])"
      ]
     },
     "execution_count": 45,
     "metadata": {},
     "output_type": "execute_result"
    }
   ],
   "source": [
    "m5.betas"
   ]
  },
  {
   "cell_type": "markdown",
   "metadata": {},
   "source": [
    "This prediction will be exactly the same for all sites, except site 5 and its neighbors. So, the neighbors to site 5 are:"
   ]
  },
  {
   "cell_type": "code",
   "execution_count": 46,
   "metadata": {},
   "outputs": [
    {
     "data": {
      "text/plain": [
       "[14,\n",
       " 15,\n",
       " 344,\n",
       " 187,\n",
       " 1,\n",
       " 111,\n",
       " 267,\n",
       " 103,\n",
       " 70,\n",
       " 67,\n",
       " 3766,\n",
       " 325,\n",
       " 12,\n",
       " 224,\n",
       " 373,\n",
       " 337,\n",
       " 3703,\n",
       " 137,\n",
       " 101,\n",
       " 3683]"
      ]
     },
     "execution_count": 46,
     "metadata": {},
     "output_type": "execute_result"
    }
   ],
   "source": [
    "knn.neighbors[5]"
   ]
  },
  {
   "cell_type": "markdown",
   "metadata": {},
   "source": [
    "And the effect of changing site 5 into a condominium results in the following changes to $y_i$:"
   ]
  },
  {
   "cell_type": "code",
   "execution_count": 47,
   "metadata": {},
   "outputs": [
    {
     "data": {
      "text/html": [
       "<div>\n",
       "<style scoped>\n",
       "    .dataframe tbody tr th:only-of-type {\n",
       "        vertical-align: middle;\n",
       "    }\n",
       "\n",
       "    .dataframe tbody tr th {\n",
       "        vertical-align: top;\n",
       "    }\n",
       "\n",
       "    .dataframe thead th {\n",
       "        text-align: right;\n",
       "    }\n",
       "</style>\n",
       "<table border=\"1\" class=\"dataframe\">\n",
       "  <thead>\n",
       "    <tr style=\"text-align: right;\">\n",
       "      <th></th>\n",
       "      <th>0</th>\n",
       "    </tr>\n",
       "  </thead>\n",
       "  <tbody>\n",
       "    <tr>\n",
       "      <th>0</th>\n",
       "      <td>5.438271</td>\n",
       "    </tr>\n",
       "    <tr>\n",
       "      <th>1</th>\n",
       "      <td>4.282676</td>\n",
       "    </tr>\n",
       "    <tr>\n",
       "      <th>2</th>\n",
       "      <td>4.612494</td>\n",
       "    </tr>\n",
       "    <tr>\n",
       "      <th>3</th>\n",
       "      <td>4.394793</td>\n",
       "    </tr>\n",
       "    <tr>\n",
       "      <th>4</th>\n",
       "      <td>4.413351</td>\n",
       "    </tr>\n",
       "    <tr>\n",
       "      <th>...</th>\n",
       "      <td>...</td>\n",
       "    </tr>\n",
       "    <tr>\n",
       "      <th>6087</th>\n",
       "      <td>6.257162</td>\n",
       "    </tr>\n",
       "    <tr>\n",
       "      <th>6088</th>\n",
       "      <td>4.171349</td>\n",
       "    </tr>\n",
       "    <tr>\n",
       "      <th>6089</th>\n",
       "      <td>4.897547</td>\n",
       "    </tr>\n",
       "    <tr>\n",
       "      <th>6090</th>\n",
       "      <td>4.171349</td>\n",
       "    </tr>\n",
       "    <tr>\n",
       "      <th>6091</th>\n",
       "      <td>4.090399</td>\n",
       "    </tr>\n",
       "  </tbody>\n",
       "</table>\n",
       "<p>6092 rows × 1 columns</p>\n",
       "</div>"
      ],
      "text/plain": [
       "             0\n",
       "0     5.438271\n",
       "1     4.282676\n",
       "2     4.612494\n",
       "3     4.394793\n",
       "4     4.413351\n",
       "...        ...\n",
       "6087  6.257162\n",
       "6088  4.171349\n",
       "6089  4.897547\n",
       "6090  4.171349\n",
       "6091  4.090399\n",
       "\n",
       "[6092 rows x 1 columns]"
      ]
     },
     "execution_count": 47,
     "metadata": {},
     "output_type": "execute_result"
    }
   ],
   "source": [
    "y_pred_scenario"
   ]
  },
  {
   "cell_type": "code",
   "execution_count": 48,
   "metadata": {},
   "outputs": [
    {
     "data": {
      "text/html": [
       "<div>\n",
       "<style scoped>\n",
       "    .dataframe tbody tr th:only-of-type {\n",
       "        vertical-align: middle;\n",
       "    }\n",
       "\n",
       "    .dataframe tbody tr th {\n",
       "        vertical-align: top;\n",
       "    }\n",
       "\n",
       "    .dataframe thead th {\n",
       "        text-align: right;\n",
       "    }\n",
       "</style>\n",
       "<table border=\"1\" class=\"dataframe\">\n",
       "  <thead>\n",
       "    <tr style=\"text-align: right;\">\n",
       "      <th></th>\n",
       "      <th>0</th>\n",
       "    </tr>\n",
       "  </thead>\n",
       "  <tbody>\n",
       "    <tr>\n",
       "      <th>5</th>\n",
       "      <td>1.074042e-01</td>\n",
       "    </tr>\n",
       "    <tr>\n",
       "      <th>14</th>\n",
       "      <td>2.912280e-02</td>\n",
       "    </tr>\n",
       "    <tr>\n",
       "      <th>15</th>\n",
       "      <td>2.912280e-02</td>\n",
       "    </tr>\n",
       "    <tr>\n",
       "      <th>344</th>\n",
       "      <td>2.912280e-02</td>\n",
       "    </tr>\n",
       "    <tr>\n",
       "      <th>187</th>\n",
       "      <td>2.912280e-02</td>\n",
       "    </tr>\n",
       "    <tr>\n",
       "      <th>1</th>\n",
       "      <td>2.912280e-02</td>\n",
       "    </tr>\n",
       "    <tr>\n",
       "      <th>111</th>\n",
       "      <td>2.912280e-02</td>\n",
       "    </tr>\n",
       "    <tr>\n",
       "      <th>267</th>\n",
       "      <td>2.912280e-02</td>\n",
       "    </tr>\n",
       "    <tr>\n",
       "      <th>103</th>\n",
       "      <td>2.912280e-02</td>\n",
       "    </tr>\n",
       "    <tr>\n",
       "      <th>70</th>\n",
       "      <td>0.000000e+00</td>\n",
       "    </tr>\n",
       "    <tr>\n",
       "      <th>67</th>\n",
       "      <td>0.000000e+00</td>\n",
       "    </tr>\n",
       "    <tr>\n",
       "      <th>3766</th>\n",
       "      <td>2.912280e-02</td>\n",
       "    </tr>\n",
       "    <tr>\n",
       "      <th>325</th>\n",
       "      <td>0.000000e+00</td>\n",
       "    </tr>\n",
       "    <tr>\n",
       "      <th>12</th>\n",
       "      <td>2.912280e-02</td>\n",
       "    </tr>\n",
       "    <tr>\n",
       "      <th>224</th>\n",
       "      <td>-8.881784e-16</td>\n",
       "    </tr>\n",
       "    <tr>\n",
       "      <th>373</th>\n",
       "      <td>2.912280e-02</td>\n",
       "    </tr>\n",
       "    <tr>\n",
       "      <th>337</th>\n",
       "      <td>2.912280e-02</td>\n",
       "    </tr>\n",
       "    <tr>\n",
       "      <th>3703</th>\n",
       "      <td>2.912280e-02</td>\n",
       "    </tr>\n",
       "    <tr>\n",
       "      <th>137</th>\n",
       "      <td>0.000000e+00</td>\n",
       "    </tr>\n",
       "    <tr>\n",
       "      <th>101</th>\n",
       "      <td>0.000000e+00</td>\n",
       "    </tr>\n",
       "    <tr>\n",
       "      <th>3683</th>\n",
       "      <td>2.912280e-02</td>\n",
       "    </tr>\n",
       "  </tbody>\n",
       "</table>\n",
       "</div>"
      ],
      "text/plain": [
       "                 0\n",
       "5     1.074042e-01\n",
       "14    2.912280e-02\n",
       "15    2.912280e-02\n",
       "344   2.912280e-02\n",
       "187   2.912280e-02\n",
       "1     2.912280e-02\n",
       "111   2.912280e-02\n",
       "267   2.912280e-02\n",
       "103   2.912280e-02\n",
       "70    0.000000e+00\n",
       "67    0.000000e+00\n",
       "3766  2.912280e-02\n",
       "325   0.000000e+00\n",
       "12    2.912280e-02\n",
       "224  -8.881784e-16\n",
       "373   2.912280e-02\n",
       "337   2.912280e-02\n",
       "3703  2.912280e-02\n",
       "137   0.000000e+00\n",
       "101   0.000000e+00\n",
       "3683  2.912280e-02"
      ]
     },
     "execution_count": 48,
     "metadata": {},
     "output_type": "execute_result"
    }
   ],
   "source": [
    "(y_pred_scenario - m5.predy).loc[[5] + knn.neighbors[5]]"
   ]
  },
  {
   "cell_type": "markdown",
   "metadata": {},
   "source": [
    "We see the first row, representing the direct effect, is equal exactly to the estimate for `pg_Condominium`.  For the other effects, though, we have only changed `w_pg_Condominium` by .05:"
   ]
  },
  {
   "cell_type": "code",
   "execution_count": 49,
   "metadata": {},
   "outputs": [
    {
     "data": {
      "text/html": [
       "<div>\n",
       "<style scoped>\n",
       "    .dataframe tbody tr th:only-of-type {\n",
       "        vertical-align: middle;\n",
       "    }\n",
       "\n",
       "    .dataframe tbody tr th {\n",
       "        vertical-align: top;\n",
       "    }\n",
       "\n",
       "    .dataframe thead th {\n",
       "        text-align: right;\n",
       "    }\n",
       "</style>\n",
       "<table border=\"1\" class=\"dataframe\">\n",
       "  <thead>\n",
       "    <tr style=\"text-align: right;\">\n",
       "      <th></th>\n",
       "      <th>w_pg_Condominium_scenario</th>\n",
       "      <th>w_pg_Condominium_original</th>\n",
       "    </tr>\n",
       "  </thead>\n",
       "  <tbody>\n",
       "    <tr>\n",
       "      <th>14</th>\n",
       "      <td>0.10</td>\n",
       "      <td>0.05</td>\n",
       "    </tr>\n",
       "    <tr>\n",
       "      <th>15</th>\n",
       "      <td>0.10</td>\n",
       "      <td>0.05</td>\n",
       "    </tr>\n",
       "    <tr>\n",
       "      <th>344</th>\n",
       "      <td>0.10</td>\n",
       "      <td>0.05</td>\n",
       "    </tr>\n",
       "    <tr>\n",
       "      <th>187</th>\n",
       "      <td>0.10</td>\n",
       "      <td>0.05</td>\n",
       "    </tr>\n",
       "    <tr>\n",
       "      <th>1</th>\n",
       "      <td>0.10</td>\n",
       "      <td>0.05</td>\n",
       "    </tr>\n",
       "    <tr>\n",
       "      <th>111</th>\n",
       "      <td>0.10</td>\n",
       "      <td>0.05</td>\n",
       "    </tr>\n",
       "    <tr>\n",
       "      <th>267</th>\n",
       "      <td>0.10</td>\n",
       "      <td>0.05</td>\n",
       "    </tr>\n",
       "    <tr>\n",
       "      <th>103</th>\n",
       "      <td>0.10</td>\n",
       "      <td>0.05</td>\n",
       "    </tr>\n",
       "    <tr>\n",
       "      <th>70</th>\n",
       "      <td>0.00</td>\n",
       "      <td>0.00</td>\n",
       "    </tr>\n",
       "    <tr>\n",
       "      <th>67</th>\n",
       "      <td>0.05</td>\n",
       "      <td>0.05</td>\n",
       "    </tr>\n",
       "    <tr>\n",
       "      <th>3766</th>\n",
       "      <td>0.05</td>\n",
       "      <td>0.00</td>\n",
       "    </tr>\n",
       "    <tr>\n",
       "      <th>325</th>\n",
       "      <td>0.05</td>\n",
       "      <td>0.05</td>\n",
       "    </tr>\n",
       "    <tr>\n",
       "      <th>12</th>\n",
       "      <td>0.05</td>\n",
       "      <td>0.00</td>\n",
       "    </tr>\n",
       "    <tr>\n",
       "      <th>224</th>\n",
       "      <td>0.05</td>\n",
       "      <td>0.05</td>\n",
       "    </tr>\n",
       "    <tr>\n",
       "      <th>373</th>\n",
       "      <td>0.05</td>\n",
       "      <td>0.00</td>\n",
       "    </tr>\n",
       "    <tr>\n",
       "      <th>337</th>\n",
       "      <td>0.10</td>\n",
       "      <td>0.05</td>\n",
       "    </tr>\n",
       "    <tr>\n",
       "      <th>3703</th>\n",
       "      <td>0.15</td>\n",
       "      <td>0.10</td>\n",
       "    </tr>\n",
       "    <tr>\n",
       "      <th>137</th>\n",
       "      <td>0.05</td>\n",
       "      <td>0.05</td>\n",
       "    </tr>\n",
       "    <tr>\n",
       "      <th>101</th>\n",
       "      <td>0.00</td>\n",
       "      <td>0.00</td>\n",
       "    </tr>\n",
       "    <tr>\n",
       "      <th>3683</th>\n",
       "      <td>0.05</td>\n",
       "      <td>0.00</td>\n",
       "    </tr>\n",
       "  </tbody>\n",
       "</table>\n",
       "</div>"
      ],
      "text/plain": [
       "      w_pg_Condominium_scenario  w_pg_Condominium_original\n",
       "14                         0.10                       0.05\n",
       "15                         0.10                       0.05\n",
       "344                        0.10                       0.05\n",
       "187                        0.10                       0.05\n",
       "1                          0.10                       0.05\n",
       "111                        0.10                       0.05\n",
       "267                        0.10                       0.05\n",
       "103                        0.10                       0.05\n",
       "70                         0.00                       0.00\n",
       "67                         0.05                       0.05\n",
       "3766                       0.05                       0.00\n",
       "325                        0.05                       0.05\n",
       "12                         0.05                       0.00\n",
       "224                        0.05                       0.05\n",
       "373                        0.05                       0.00\n",
       "337                        0.10                       0.05\n",
       "3703                       0.15                       0.10\n",
       "137                        0.05                       0.05\n",
       "101                        0.00                       0.00\n",
       "3683                       0.05                       0.00"
      ]
     },
     "execution_count": 49,
     "metadata": {},
     "output_type": "execute_result"
    }
   ],
   "source": [
    "scenario_near_5 = slx_exog_scenario.loc[knn.neighbors[5], ['w_pg_Condominium']]\n",
    "orig_near_5 = slx_exog.loc[knn.neighbors[5], ['w_pg_Condominium']]\n",
    "scenario_near_5.join(orig_near_5, lsuffix='_scenario', rsuffix= '_original')"
   ]
  },
  {
   "cell_type": "markdown",
   "metadata": {},
   "source": [
    "### Spatial error model"
   ]
  },
  {
   "cell_type": "markdown",
   "metadata": {},
   "source": [
    "The spatial error model includes a spatial lag in the error term of the equation:\n",
    "\n",
    "$$\n",
    "\\begin{gathered}\n",
    "\\log P_{i}=\\alpha+\\sum_{k} \\beta_{k} X_{k i}+u_{i} \\\\\n",
    "u_{i}=\\lambda u_{\\text {lag- } i}+\\epsilon_{i}\n",
    "\\end{gathered}\n",
    "$$\n",
    "\n",
    "where $u_{\\text {lag- } i}=\\sum_{j} w_{i, j} u_{j}$.\n",
    "\n",
    "Although it appears similar to the regression models we have seen so far, this specification violates the assumptions about the error term in a classical OLS model. Hence, alternative estimation methods are required, which, thankfully, `PySAL` provides us with.  "
   ]
  },
  {
   "cell_type": "code",
   "execution_count": 50,
   "metadata": {},
   "outputs": [
    {
     "name": "stdout",
     "output_type": "stream",
     "text": [
      "REGRESSION\n",
      "----------\n",
      "SUMMARY OF OUTPUT: SPATIALLY WEIGHTED LEAST SQUARES (HET)\n",
      "---------------------------------------------------------\n",
      "Data set            :     unknown\n",
      "Weights matrix      :     unknown\n",
      "Dependent Variable  :   log_price                Number of Observations:        6092\n",
      "Mean dependent var  :      4.9976                Number of Variables   :          11\n",
      "S.D. dependent var  :      0.8072                Degrees of Freedom    :        6081\n",
      "Pseudo R-squared    :      0.6653\n",
      "N. of iterations    :           1                Step1c computed       :          No\n",
      "\n",
      "------------------------------------------------------------------------------------\n",
      "            Variable     Coefficient       Std.Error     z-Statistic     Probability\n",
      "------------------------------------------------------------------------------------\n",
      "            CONSTANT       4.4258487       0.0217587     203.4056435       0.0000000\n",
      "        accommodates       0.0695265       0.0063242      10.9937983       0.0000000\n",
      "           bathrooms       0.1620024       0.0151362      10.7029985       0.0000000\n",
      "            bedrooms       0.1738388       0.0146604      11.8577265       0.0000000\n",
      "                beds      -0.0378129       0.0088264      -4.2840703       0.0000184\n",
      "     rt_Private_room      -0.4953943       0.0163967     -30.2130680       0.0000000\n",
      "      rt_Shared_room      -1.1679096       0.0522828     -22.3383245       0.0000000\n",
      "      pg_Condominium       0.1011729       0.0213060       4.7485643       0.0000020\n",
      "            pg_House       0.0321161       0.0147371       2.1792671       0.0293118\n",
      "            pg_Other       0.0875609       0.0255672       3.4247284       0.0006154\n",
      "        pg_Townhouse      -0.0057761       0.0295374      -0.1955517       0.8449610\n",
      "              lambda       0.6466776       0.0186319      34.7080814       0.0000000\n",
      "              lambda       0.6466776       0.0186319      34.7080814       0.0000000\n",
      "------------------------------------------------------------------------------------\n",
      "================================ END OF REPORT =====================================\n"
     ]
    }
   ],
   "source": [
    "m6 = spreg.GM_Error_Het(\n",
    "    db[['log_price']].values, \n",
    "    db[variable_names].values,\n",
    "    w=knn, \n",
    "    name_y='log_price', \n",
    "    name_x=variable_names\n",
    ")\n",
    "print(m6.summary)"
   ]
  },
  {
   "cell_type": "markdown",
   "metadata": {},
   "source": [
    "### Spatial lag model"
   ]
  },
  {
   "cell_type": "markdown",
   "metadata": {},
   "source": [
    "The spatial lag model introduces a spatial lag of the **_dependent_** variable. The equation we have to estimate in thic case becomes:\n",
    "\n",
    "$$\n",
    "\\log P_{i}=\\alpha+\\rho \\log P_{\\text {lag-i }}+\\sum_{k} \\beta_{k} X_{k i}+\\epsilon_{i}\n",
    "$$\n",
    "\n",
    "This violates the OLS assumption about exogeneity of variables. Simply put, this occurs since $P_i$ exists on both \"sides\" of the equation. Similarly to the case of the spatial error, several techniques have been proposed to overcome this limitation, and PySAL implements several of them. In the example below, we use a [two-stage least squares estimation](https://link.springer.com/book/10.1007%2F978-94-015-7799-1)."
   ]
  },
  {
   "cell_type": "code",
   "execution_count": 51,
   "metadata": {},
   "outputs": [
    {
     "name": "stdout",
     "output_type": "stream",
     "text": [
      "REGRESSION\n",
      "----------\n",
      "SUMMARY OF OUTPUT: SPATIAL TWO STAGE LEAST SQUARES\n",
      "--------------------------------------------------\n",
      "Data set            :     unknown\n",
      "Weights matrix      :     unknown\n",
      "Dependent Variable  :   log_price                Number of Observations:        6092\n",
      "Mean dependent var  :      4.9976                Number of Variables   :          12\n",
      "S.D. dependent var  :      0.8072                Degrees of Freedom    :        6080\n",
      "Pseudo R-squared    :      0.7054\n",
      "Spatial Pseudo R-squared:  0.6877\n",
      "\n",
      "------------------------------------------------------------------------------------\n",
      "            Variable     Coefficient       Std.Error     z-Statistic     Probability\n",
      "------------------------------------------------------------------------------------\n",
      "            CONSTANT       2.7499280       0.0729859      37.6775268       0.0000000\n",
      "        accommodates       0.0698300       0.0048212      14.4838936       0.0000000\n",
      "           bathrooms       0.1631446       0.0104140      15.6659271       0.0000000\n",
      "            bedrooms       0.1601137       0.0104930      15.2591320       0.0000000\n",
      "                beds      -0.0364992       0.0065401      -5.5808092       0.0000000\n",
      "     rt_Private_room      -0.4993702       0.0151670     -32.9248067       0.0000000\n",
      "      rt_Shared_room      -1.1201584       0.0368611     -30.3886675       0.0000000\n",
      "      pg_Condominium       0.1076567       0.0209215       5.1457306       0.0000003\n",
      "            pg_House      -0.0001363       0.0137099      -0.0099453       0.9920650\n",
      "            pg_Other       0.1222234       0.0215246       5.6783045       0.0000000\n",
      "        pg_Townhouse      -0.0191713       0.0324350      -0.5910699       0.5544736\n",
      "         W_log_price       0.3403389       0.0148316      22.9469157       0.0000000\n",
      "------------------------------------------------------------------------------------\n",
      "Instrumented: W_log_price\n",
      "Instruments: W_accommodates, W_bathrooms, W_bedrooms, W_beds,\n",
      "             W_pg_Condominium, W_pg_House, W_pg_Other, W_pg_Townhouse,\n",
      "             W_rt_Private_room, W_rt_Shared_room\n",
      "================================ END OF REPORT =====================================\n"
     ]
    }
   ],
   "source": [
    "m7 = spreg.GM_Lag(\n",
    "    db[['log_price']].values, \n",
    "    db[variable_names].values,\n",
    "    w=knn, \n",
    "    name_y='log_price', \n",
    "    name_x=variable_names\n",
    ")\n",
    "print(m7.summary)"
   ]
  },
  {
   "cell_type": "markdown",
   "metadata": {},
   "source": [
    "Just as in the case of the SLX regression, changes in the spatial lag regression need to be interpreted carefully. Here, `w_log_price` applies uniformly across all observations, and actually changes the effective strength of each of the $\\beta$ coefficients. "
   ]
  },
  {
   "cell_type": "markdown",
   "metadata": {},
   "source": [
    "### Homework assignment"
   ]
  },
  {
   "cell_type": "markdown",
   "metadata": {},
   "source": [
    "Build a new spatial feature that you think might influence Airbnb listing prices, and run a spatial regression using that feature.\n",
    "\n",
    "Complete the homework assignment in a clean Jupyter Notebook, name the notebook **< Name > < Surname > Class 10 Homework** and upload it to Moodle."
   ]
  },
  {
   "cell_type": "code",
   "execution_count": null,
   "metadata": {},
   "outputs": [],
   "source": []
  }
 ],
 "metadata": {
  "kernelspec": {
   "display_name": "Python 3",
   "language": "python",
   "name": "python3"
  },
  "language_info": {
   "codemirror_mode": {
    "name": "ipython",
    "version": 3
   },
   "file_extension": ".py",
   "mimetype": "text/x-python",
   "name": "python",
   "nbconvert_exporter": "python",
   "pygments_lexer": "ipython3",
   "version": "3.8.5"
  }
 },
 "nbformat": 4,
 "nbformat_minor": 4
}
